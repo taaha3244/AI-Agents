{
  "cells": [
    {
      "cell_type": "markdown",
      "metadata": {
        "id": "view-in-github",
        "colab_type": "text"
      },
      "source": [
        "<a href=\"https://colab.research.google.com/github/taaha3244/AI-Agents/blob/main/Policy_crew.ipynb\" target=\"_parent\"><img src=\"https://colab.research.google.com/assets/colab-badge.svg\" alt=\"Open In Colab\"/></a>"
      ]
    },
    {
      "cell_type": "code",
      "execution_count": 26,
      "metadata": {
        "height": 64,
        "id": "hNXZ5nttV29K"
      },
      "outputs": [],
      "source": [
        "# Warning control\n",
        "import warnings\n",
        "warnings.filterwarnings('ignore')"
      ]
    },
    {
      "cell_type": "code",
      "source": [
        "!pip install crewai==0.28.8 crewai_tools==0.1.6 langchain_community==0.0.29  langchain_openai qdrant-client"
      ],
      "metadata": {
        "colab": {
          "base_uri": "https://localhost:8080/"
        },
        "collapsed": true,
        "id": "8SSU6Wz2SgDy",
        "outputId": "1cd43053-d1b0-4737-f927-8bf2eeabef72"
      },
      "execution_count": 18,
      "outputs": [
        {
          "output_type": "stream",
          "name": "stdout",
          "text": [
            "Requirement already satisfied: crewai==0.28.8 in /usr/local/lib/python3.10/dist-packages (0.28.8)\n",
            "Requirement already satisfied: crewai_tools==0.1.6 in /usr/local/lib/python3.10/dist-packages (0.1.6)\n",
            "Requirement already satisfied: langchain_community==0.0.29 in /usr/local/lib/python3.10/dist-packages (0.0.29)\n",
            "Requirement already satisfied: langchain_openai in /usr/local/lib/python3.10/dist-packages (0.0.5)\n",
            "Collecting qdrant-client\n",
            "  Downloading qdrant_client-1.9.1-py3-none-any.whl (229 kB)\n",
            "\u001b[2K     \u001b[90m━━━━━━━━━━━━━━━━━━━━━━━━━━━━━━━━━━━━━━━━\u001b[0m \u001b[32m229.3/229.3 kB\u001b[0m \u001b[31m4.5 MB/s\u001b[0m eta \u001b[36m0:00:00\u001b[0m\n",
            "\u001b[?25hRequirement already satisfied: appdirs<2.0.0,>=1.4.4 in /usr/local/lib/python3.10/dist-packages (from crewai==0.28.8) (1.4.4)\n",
            "Requirement already satisfied: click<9.0.0,>=8.1.7 in /usr/local/lib/python3.10/dist-packages (from crewai==0.28.8) (8.1.7)\n",
            "Requirement already satisfied: embedchain<0.2.0,>=0.1.98 in /usr/local/lib/python3.10/dist-packages (from crewai==0.28.8) (0.1.102)\n",
            "Requirement already satisfied: instructor<0.6.0,>=0.5.2 in /usr/local/lib/python3.10/dist-packages (from crewai==0.28.8) (0.5.2)\n",
            "Requirement already satisfied: langchain<0.2.0,>=0.1.10 in /usr/local/lib/python3.10/dist-packages (from crewai==0.28.8) (0.1.13)\n",
            "Requirement already satisfied: openai<2.0.0,>=1.13.3 in /usr/local/lib/python3.10/dist-packages (from crewai==0.28.8) (1.30.5)\n",
            "Requirement already satisfied: opentelemetry-api<2.0.0,>=1.22.0 in /usr/local/lib/python3.10/dist-packages (from crewai==0.28.8) (1.25.0)\n",
            "Requirement already satisfied: opentelemetry-exporter-otlp-proto-http<2.0.0,>=1.22.0 in /usr/local/lib/python3.10/dist-packages (from crewai==0.28.8) (1.25.0)\n",
            "Requirement already satisfied: opentelemetry-sdk<2.0.0,>=1.22.0 in /usr/local/lib/python3.10/dist-packages (from crewai==0.28.8) (1.25.0)\n",
            "Requirement already satisfied: pydantic<3.0.0,>=2.4.2 in /usr/local/lib/python3.10/dist-packages (from crewai==0.28.8) (2.7.1)\n",
            "Requirement already satisfied: python-dotenv==1.0.0 in /usr/local/lib/python3.10/dist-packages (from crewai==0.28.8) (1.0.0)\n",
            "Requirement already satisfied: regex<2024.0.0,>=2023.12.25 in /usr/local/lib/python3.10/dist-packages (from crewai==0.28.8) (2023.12.25)\n",
            "Requirement already satisfied: beautifulsoup4<5.0.0,>=4.12.3 in /usr/local/lib/python3.10/dist-packages (from crewai_tools==0.1.6) (4.12.3)\n",
            "Requirement already satisfied: chromadb<0.5.0,>=0.4.22 in /usr/local/lib/python3.10/dist-packages (from crewai_tools==0.1.6) (0.4.24)\n",
            "Requirement already satisfied: lancedb<0.6.0,>=0.5.4 in /usr/local/lib/python3.10/dist-packages (from crewai_tools==0.1.6) (0.5.7)\n",
            "Requirement already satisfied: pyright<2.0.0,>=1.1.350 in /usr/local/lib/python3.10/dist-packages (from crewai_tools==0.1.6) (1.1.365)\n",
            "Requirement already satisfied: pytest<9.0.0,>=8.0.0 in /usr/local/lib/python3.10/dist-packages (from crewai_tools==0.1.6) (8.2.1)\n",
            "Requirement already satisfied: pytube<16.0.0,>=15.0.0 in /usr/local/lib/python3.10/dist-packages (from crewai_tools==0.1.6) (15.0.0)\n",
            "Requirement already satisfied: requests<3.0.0,>=2.31.0 in /usr/local/lib/python3.10/dist-packages (from crewai_tools==0.1.6) (2.31.0)\n",
            "Requirement already satisfied: selenium<5.0.0,>=4.18.1 in /usr/local/lib/python3.10/dist-packages (from crewai_tools==0.1.6) (4.21.0)\n",
            "Requirement already satisfied: PyYAML>=5.3 in /usr/local/lib/python3.10/dist-packages (from langchain_community==0.0.29) (6.0.1)\n",
            "Requirement already satisfied: SQLAlchemy<3,>=1.4 in /usr/local/lib/python3.10/dist-packages (from langchain_community==0.0.29) (2.0.30)\n",
            "Requirement already satisfied: aiohttp<4.0.0,>=3.8.3 in /usr/local/lib/python3.10/dist-packages (from langchain_community==0.0.29) (3.9.5)\n",
            "Requirement already satisfied: dataclasses-json<0.7,>=0.5.7 in /usr/local/lib/python3.10/dist-packages (from langchain_community==0.0.29) (0.6.6)\n",
            "Requirement already satisfied: langchain-core<0.2.0,>=0.1.33 in /usr/local/lib/python3.10/dist-packages (from langchain_community==0.0.29) (0.1.52)\n",
            "Requirement already satisfied: langsmith<0.2.0,>=0.1.0 in /usr/local/lib/python3.10/dist-packages (from langchain_community==0.0.29) (0.1.67)\n",
            "Requirement already satisfied: numpy<2,>=1 in /usr/local/lib/python3.10/dist-packages (from langchain_community==0.0.29) (1.25.2)\n",
            "Requirement already satisfied: tenacity<9.0.0,>=8.1.0 in /usr/local/lib/python3.10/dist-packages (from langchain_community==0.0.29) (8.3.0)\n",
            "Requirement already satisfied: tiktoken<0.6.0,>=0.5.2 in /usr/local/lib/python3.10/dist-packages (from langchain_openai) (0.5.2)\n",
            "Requirement already satisfied: grpcio>=1.41.0 in /usr/local/lib/python3.10/dist-packages (from qdrant-client) (1.64.0)\n",
            "Collecting grpcio-tools>=1.41.0 (from qdrant-client)\n",
            "  Downloading grpcio_tools-1.64.0-cp310-cp310-manylinux_2_17_x86_64.manylinux2014_x86_64.whl (2.3 MB)\n",
            "\u001b[2K     \u001b[90m━━━━━━━━━━━━━━━━━━━━━━━━━━━━━━━━━━━━━━━━\u001b[0m \u001b[32m2.3/2.3 MB\u001b[0m \u001b[31m11.3 MB/s\u001b[0m eta \u001b[36m0:00:00\u001b[0m\n",
            "\u001b[?25hRequirement already satisfied: httpx[http2]>=0.20.0 in /usr/local/lib/python3.10/dist-packages (from qdrant-client) (0.27.0)\n",
            "Requirement already satisfied: portalocker<3.0.0,>=2.7.0 in /usr/local/lib/python3.10/dist-packages (from qdrant-client) (2.8.2)\n",
            "Requirement already satisfied: urllib3<3,>=1.26.14 in /usr/local/lib/python3.10/dist-packages (from qdrant-client) (2.0.7)\n",
            "Requirement already satisfied: aiosignal>=1.1.2 in /usr/local/lib/python3.10/dist-packages (from aiohttp<4.0.0,>=3.8.3->langchain_community==0.0.29) (1.3.1)\n",
            "Requirement already satisfied: attrs>=17.3.0 in /usr/local/lib/python3.10/dist-packages (from aiohttp<4.0.0,>=3.8.3->langchain_community==0.0.29) (23.2.0)\n",
            "Requirement already satisfied: frozenlist>=1.1.1 in /usr/local/lib/python3.10/dist-packages (from aiohttp<4.0.0,>=3.8.3->langchain_community==0.0.29) (1.4.1)\n",
            "Requirement already satisfied: multidict<7.0,>=4.5 in /usr/local/lib/python3.10/dist-packages (from aiohttp<4.0.0,>=3.8.3->langchain_community==0.0.29) (6.0.5)\n",
            "Requirement already satisfied: yarl<2.0,>=1.0 in /usr/local/lib/python3.10/dist-packages (from aiohttp<4.0.0,>=3.8.3->langchain_community==0.0.29) (1.9.4)\n",
            "Requirement already satisfied: async-timeout<5.0,>=4.0 in /usr/local/lib/python3.10/dist-packages (from aiohttp<4.0.0,>=3.8.3->langchain_community==0.0.29) (4.0.3)\n",
            "Requirement already satisfied: soupsieve>1.2 in /usr/local/lib/python3.10/dist-packages (from beautifulsoup4<5.0.0,>=4.12.3->crewai_tools==0.1.6) (2.5)\n",
            "Requirement already satisfied: build>=1.0.3 in /usr/local/lib/python3.10/dist-packages (from chromadb<0.5.0,>=0.4.22->crewai_tools==0.1.6) (1.2.1)\n",
            "Requirement already satisfied: chroma-hnswlib==0.7.3 in /usr/local/lib/python3.10/dist-packages (from chromadb<0.5.0,>=0.4.22->crewai_tools==0.1.6) (0.7.3)\n",
            "Requirement already satisfied: fastapi>=0.95.2 in /usr/local/lib/python3.10/dist-packages (from chromadb<0.5.0,>=0.4.22->crewai_tools==0.1.6) (0.110.3)\n",
            "Requirement already satisfied: uvicorn[standard]>=0.18.3 in /usr/local/lib/python3.10/dist-packages (from chromadb<0.5.0,>=0.4.22->crewai_tools==0.1.6) (0.30.1)\n",
            "Requirement already satisfied: posthog>=2.4.0 in /usr/local/lib/python3.10/dist-packages (from chromadb<0.5.0,>=0.4.22->crewai_tools==0.1.6) (3.5.0)\n",
            "Requirement already satisfied: typing-extensions>=4.5.0 in /usr/local/lib/python3.10/dist-packages (from chromadb<0.5.0,>=0.4.22->crewai_tools==0.1.6) (4.11.0)\n",
            "Requirement already satisfied: pulsar-client>=3.1.0 in /usr/local/lib/python3.10/dist-packages (from chromadb<0.5.0,>=0.4.22->crewai_tools==0.1.6) (3.5.0)\n",
            "Requirement already satisfied: onnxruntime>=1.14.1 in /usr/local/lib/python3.10/dist-packages (from chromadb<0.5.0,>=0.4.22->crewai_tools==0.1.6) (1.18.0)\n",
            "Requirement already satisfied: opentelemetry-exporter-otlp-proto-grpc>=1.2.0 in /usr/local/lib/python3.10/dist-packages (from chromadb<0.5.0,>=0.4.22->crewai_tools==0.1.6) (1.25.0)\n",
            "Requirement already satisfied: opentelemetry-instrumentation-fastapi>=0.41b0 in /usr/local/lib/python3.10/dist-packages (from chromadb<0.5.0,>=0.4.22->crewai_tools==0.1.6) (0.46b0)\n",
            "Requirement already satisfied: tokenizers>=0.13.2 in /usr/local/lib/python3.10/dist-packages (from chromadb<0.5.0,>=0.4.22->crewai_tools==0.1.6) (0.19.1)\n",
            "Requirement already satisfied: pypika>=0.48.9 in /usr/local/lib/python3.10/dist-packages (from chromadb<0.5.0,>=0.4.22->crewai_tools==0.1.6) (0.48.9)\n",
            "Requirement already satisfied: tqdm>=4.65.0 in /usr/local/lib/python3.10/dist-packages (from chromadb<0.5.0,>=0.4.22->crewai_tools==0.1.6) (4.66.4)\n",
            "Requirement already satisfied: overrides>=7.3.1 in /usr/local/lib/python3.10/dist-packages (from chromadb<0.5.0,>=0.4.22->crewai_tools==0.1.6) (7.7.0)\n",
            "Requirement already satisfied: importlib-resources in /usr/local/lib/python3.10/dist-packages (from chromadb<0.5.0,>=0.4.22->crewai_tools==0.1.6) (6.4.0)\n",
            "Requirement already satisfied: bcrypt>=4.0.1 in /usr/local/lib/python3.10/dist-packages (from chromadb<0.5.0,>=0.4.22->crewai_tools==0.1.6) (4.1.3)\n",
            "Requirement already satisfied: typer>=0.9.0 in /usr/local/lib/python3.10/dist-packages (from chromadb<0.5.0,>=0.4.22->crewai_tools==0.1.6) (0.9.4)\n",
            "Requirement already satisfied: kubernetes>=28.1.0 in /usr/local/lib/python3.10/dist-packages (from chromadb<0.5.0,>=0.4.22->crewai_tools==0.1.6) (29.0.0)\n",
            "Requirement already satisfied: mmh3>=4.0.1 in /usr/local/lib/python3.10/dist-packages (from chromadb<0.5.0,>=0.4.22->crewai_tools==0.1.6) (4.1.0)\n",
            "Requirement already satisfied: orjson>=3.9.12 in /usr/local/lib/python3.10/dist-packages (from chromadb<0.5.0,>=0.4.22->crewai_tools==0.1.6) (3.10.3)\n",
            "Requirement already satisfied: marshmallow<4.0.0,>=3.18.0 in /usr/local/lib/python3.10/dist-packages (from dataclasses-json<0.7,>=0.5.7->langchain_community==0.0.29) (3.21.2)\n",
            "Requirement already satisfied: typing-inspect<1,>=0.4.0 in /usr/local/lib/python3.10/dist-packages (from dataclasses-json<0.7,>=0.5.7->langchain_community==0.0.29) (0.9.0)\n",
            "Requirement already satisfied: alembic<2.0.0,>=1.13.1 in /usr/local/lib/python3.10/dist-packages (from embedchain<0.2.0,>=0.1.98->crewai==0.28.8) (1.13.1)\n",
            "Requirement already satisfied: google-cloud-aiplatform<2.0.0,>=1.26.1 in /usr/local/lib/python3.10/dist-packages (from embedchain<0.2.0,>=0.1.98->crewai==0.28.8) (1.52.0)\n",
            "Requirement already satisfied: gptcache<0.2.0,>=0.1.43 in /usr/local/lib/python3.10/dist-packages (from embedchain<0.2.0,>=0.1.98->crewai==0.28.8) (0.1.43)\n",
            "Requirement already satisfied: pypdf<4.0.0,>=3.11.0 in /usr/local/lib/python3.10/dist-packages (from embedchain<0.2.0,>=0.1.98->crewai==0.28.8) (3.17.4)\n",
            "Requirement already satisfied: pysbd<0.4.0,>=0.3.4 in /usr/local/lib/python3.10/dist-packages (from embedchain<0.2.0,>=0.1.98->crewai==0.28.8) (0.3.4)\n",
            "Requirement already satisfied: rich<14.0.0,>=13.7.0 in /usr/local/lib/python3.10/dist-packages (from embedchain<0.2.0,>=0.1.98->crewai==0.28.8) (13.7.1)\n",
            "Requirement already satisfied: schema<0.8.0,>=0.7.5 in /usr/local/lib/python3.10/dist-packages (from embedchain<0.2.0,>=0.1.98->crewai==0.28.8) (0.7.7)\n",
            "Requirement already satisfied: youtube-transcript-api<0.7.0,>=0.6.1 in /usr/local/lib/python3.10/dist-packages (from embedchain<0.2.0,>=0.1.98->crewai==0.28.8) (0.6.2)\n",
            "Requirement already satisfied: yt_dlp<2024.0.0,>=2023.11.14 in /usr/local/lib/python3.10/dist-packages (from embedchain<0.2.0,>=0.1.98->crewai==0.28.8) (2023.12.30)\n",
            "Requirement already satisfied: PyGithub<2.0.0,>=1.59.1 in /usr/local/lib/python3.10/dist-packages (from embedchain<0.2.0,>=0.1.98->crewai==0.28.8) (1.59.1)\n",
            "Requirement already satisfied: gitpython<4.0.0,>=3.1.38 in /usr/local/lib/python3.10/dist-packages (from embedchain<0.2.0,>=0.1.98->crewai==0.28.8) (3.1.43)\n",
            "Collecting protobuf<6.0dev,>=5.26.1 (from grpcio-tools>=1.41.0->qdrant-client)\n",
            "  Downloading protobuf-5.27.0-cp38-abi3-manylinux2014_x86_64.whl (309 kB)\n",
            "\u001b[2K     \u001b[90m━━━━━━━━━━━━━━━━━━━━━━━━━━━━━━━━━━━━━━━━\u001b[0m \u001b[32m309.2/309.2 kB\u001b[0m \u001b[31m15.4 MB/s\u001b[0m eta \u001b[36m0:00:00\u001b[0m\n",
            "\u001b[?25hRequirement already satisfied: setuptools in /usr/local/lib/python3.10/dist-packages (from grpcio-tools>=1.41.0->qdrant-client) (67.7.2)\n",
            "Requirement already satisfied: anyio in /usr/local/lib/python3.10/dist-packages (from httpx[http2]>=0.20.0->qdrant-client) (3.7.1)\n",
            "Requirement already satisfied: certifi in /usr/local/lib/python3.10/dist-packages (from httpx[http2]>=0.20.0->qdrant-client) (2024.2.2)\n",
            "Requirement already satisfied: httpcore==1.* in /usr/local/lib/python3.10/dist-packages (from httpx[http2]>=0.20.0->qdrant-client) (1.0.5)\n",
            "Requirement already satisfied: idna in /usr/local/lib/python3.10/dist-packages (from httpx[http2]>=0.20.0->qdrant-client) (3.7)\n",
            "Requirement already satisfied: sniffio in /usr/local/lib/python3.10/dist-packages (from httpx[http2]>=0.20.0->qdrant-client) (1.3.1)\n",
            "Collecting h2<5,>=3 (from httpx[http2]>=0.20.0->qdrant-client)\n",
            "  Downloading h2-4.1.0-py3-none-any.whl (57 kB)\n",
            "\u001b[2K     \u001b[90m━━━━━━━━━━━━━━━━━━━━━━━━━━━━━━━━━━━━━━━━\u001b[0m \u001b[32m57.5/57.5 kB\u001b[0m \u001b[31m8.2 MB/s\u001b[0m eta \u001b[36m0:00:00\u001b[0m\n",
            "\u001b[?25hRequirement already satisfied: h11<0.15,>=0.13 in /usr/local/lib/python3.10/dist-packages (from httpcore==1.*->httpx[http2]>=0.20.0->qdrant-client) (0.14.0)\n",
            "Requirement already satisfied: docstring-parser<0.16,>=0.15 in /usr/local/lib/python3.10/dist-packages (from instructor<0.6.0,>=0.5.2->crewai==0.28.8) (0.15)\n",
            "Requirement already satisfied: deprecation in /usr/local/lib/python3.10/dist-packages (from lancedb<0.6.0,>=0.5.4->crewai_tools==0.1.6) (2.1.0)\n",
            "Requirement already satisfied: pylance==0.9.18 in /usr/local/lib/python3.10/dist-packages (from lancedb<0.6.0,>=0.5.4->crewai_tools==0.1.6) (0.9.18)\n",
            "Requirement already satisfied: ratelimiter~=1.0 in /usr/local/lib/python3.10/dist-packages (from lancedb<0.6.0,>=0.5.4->crewai_tools==0.1.6) (1.2.0.post0)\n",
            "Requirement already satisfied: retry>=0.9.2 in /usr/local/lib/python3.10/dist-packages (from lancedb<0.6.0,>=0.5.4->crewai_tools==0.1.6) (0.9.2)\n",
            "Requirement already satisfied: semver>=3.0 in /usr/local/lib/python3.10/dist-packages (from lancedb<0.6.0,>=0.5.4->crewai_tools==0.1.6) (3.0.2)\n",
            "Requirement already satisfied: cachetools in /usr/local/lib/python3.10/dist-packages (from lancedb<0.6.0,>=0.5.4->crewai_tools==0.1.6) (5.3.3)\n",
            "Requirement already satisfied: pyarrow>=12 in /usr/local/lib/python3.10/dist-packages (from pylance==0.9.18->lancedb<0.6.0,>=0.5.4->crewai_tools==0.1.6) (14.0.2)\n",
            "Requirement already satisfied: jsonpatch<2.0,>=1.33 in /usr/local/lib/python3.10/dist-packages (from langchain<0.2.0,>=0.1.10->crewai==0.28.8) (1.33)\n",
            "Requirement already satisfied: langchain-text-splitters<0.1,>=0.0.1 in /usr/local/lib/python3.10/dist-packages (from langchain<0.2.0,>=0.1.10->crewai==0.28.8) (0.0.2)\n",
            "Requirement already satisfied: packaging<24.0,>=23.2 in /usr/local/lib/python3.10/dist-packages (from langchain-core<0.2.0,>=0.1.33->langchain_community==0.0.29) (23.2)\n",
            "Requirement already satisfied: distro<2,>=1.7.0 in /usr/lib/python3/dist-packages (from openai<2.0.0,>=1.13.3->crewai==0.28.8) (1.7.0)\n",
            "Requirement already satisfied: deprecated>=1.2.6 in /usr/local/lib/python3.10/dist-packages (from opentelemetry-api<2.0.0,>=1.22.0->crewai==0.28.8) (1.2.14)\n",
            "Requirement already satisfied: importlib-metadata<=7.1,>=6.0 in /usr/local/lib/python3.10/dist-packages (from opentelemetry-api<2.0.0,>=1.22.0->crewai==0.28.8) (7.1.0)\n",
            "Requirement already satisfied: googleapis-common-protos~=1.52 in /usr/local/lib/python3.10/dist-packages (from opentelemetry-exporter-otlp-proto-http<2.0.0,>=1.22.0->crewai==0.28.8) (1.63.0)\n",
            "Requirement already satisfied: opentelemetry-exporter-otlp-proto-common==1.25.0 in /usr/local/lib/python3.10/dist-packages (from opentelemetry-exporter-otlp-proto-http<2.0.0,>=1.22.0->crewai==0.28.8) (1.25.0)\n",
            "Requirement already satisfied: opentelemetry-proto==1.25.0 in /usr/local/lib/python3.10/dist-packages (from opentelemetry-exporter-otlp-proto-http<2.0.0,>=1.22.0->crewai==0.28.8) (1.25.0)\n",
            "INFO: pip is looking at multiple versions of opentelemetry-proto to determine which version is compatible with other requirements. This could take a while.\n",
            "Collecting opentelemetry-exporter-otlp-proto-common==1.25.0 (from opentelemetry-exporter-otlp-proto-http<2.0.0,>=1.22.0->crewai==0.28.8)\n",
            "  Using cached opentelemetry_exporter_otlp_proto_common-1.25.0-py3-none-any.whl (17 kB)\n",
            "Collecting opentelemetry-exporter-otlp-proto-http<2.0.0,>=1.22.0 (from crewai==0.28.8)\n",
            "  Using cached opentelemetry_exporter_otlp_proto_http-1.25.0-py3-none-any.whl (16 kB)\n",
            "  Downloading opentelemetry_exporter_otlp_proto_http-1.24.0-py3-none-any.whl (16 kB)\n",
            "Collecting opentelemetry-exporter-otlp-proto-common==1.24.0 (from opentelemetry-exporter-otlp-proto-http<2.0.0,>=1.22.0->crewai==0.28.8)\n",
            "  Downloading opentelemetry_exporter_otlp_proto_common-1.24.0-py3-none-any.whl (17 kB)\n",
            "Collecting opentelemetry-proto==1.24.0 (from opentelemetry-exporter-otlp-proto-http<2.0.0,>=1.22.0->crewai==0.28.8)\n",
            "  Downloading opentelemetry_proto-1.24.0-py3-none-any.whl (50 kB)\n",
            "\u001b[2K     \u001b[90m━━━━━━━━━━━━━━━━━━━━━━━━━━━━━━━━━━━━━━━━\u001b[0m \u001b[32m50.8/50.8 kB\u001b[0m \u001b[31m7.2 MB/s\u001b[0m eta \u001b[36m0:00:00\u001b[0m\n",
            "\u001b[?25hCollecting opentelemetry-sdk<2.0.0,>=1.22.0 (from crewai==0.28.8)\n",
            "  Downloading opentelemetry_sdk-1.24.0-py3-none-any.whl (106 kB)\n",
            "\u001b[2K     \u001b[90m━━━━━━━━━━━━━━━━━━━━━━━━━━━━━━━━━━━━━━━━\u001b[0m \u001b[32m106.1/106.1 kB\u001b[0m \u001b[31m12.8 MB/s\u001b[0m eta \u001b[36m0:00:00\u001b[0m\n",
            "\u001b[?25hCollecting opentelemetry-exporter-otlp-proto-http<2.0.0,>=1.22.0 (from crewai==0.28.8)\n",
            "  Downloading opentelemetry_exporter_otlp_proto_http-1.23.0-py3-none-any.whl (16 kB)\n",
            "Collecting opentelemetry-exporter-otlp-proto-common==1.23.0 (from opentelemetry-exporter-otlp-proto-http<2.0.0,>=1.22.0->crewai==0.28.8)\n",
            "  Downloading opentelemetry_exporter_otlp_proto_common-1.23.0-py3-none-any.whl (17 kB)\n",
            "Collecting opentelemetry-proto==1.23.0 (from opentelemetry-exporter-otlp-proto-http<2.0.0,>=1.22.0->crewai==0.28.8)\n",
            "  Downloading opentelemetry_proto-1.23.0-py3-none-any.whl (50 kB)\n",
            "\u001b[2K     \u001b[90m━━━━━━━━━━━━━━━━━━━━━━━━━━━━━━━━━━━━━━━━\u001b[0m \u001b[32m50.8/50.8 kB\u001b[0m \u001b[31m7.1 MB/s\u001b[0m eta \u001b[36m0:00:00\u001b[0m\n",
            "\u001b[?25hCollecting opentelemetry-sdk<2.0.0,>=1.22.0 (from crewai==0.28.8)\n",
            "  Downloading opentelemetry_sdk-1.23.0-py3-none-any.whl (105 kB)\n",
            "\u001b[2K     \u001b[90m━━━━━━━━━━━━━━━━━━━━━━━━━━━━━━━━━━━━━━━━\u001b[0m \u001b[32m105.7/105.7 kB\u001b[0m \u001b[31m13.9 MB/s\u001b[0m eta \u001b[36m0:00:00\u001b[0m\n",
            "\u001b[?25hCollecting opentelemetry-exporter-otlp-proto-http<2.0.0,>=1.22.0 (from crewai==0.28.8)\n",
            "  Downloading opentelemetry_exporter_otlp_proto_http-1.22.0-py3-none-any.whl (16 kB)\n",
            "Requirement already satisfied: backoff<3.0.0,>=1.10.0 in /usr/local/lib/python3.10/dist-packages (from opentelemetry-exporter-otlp-proto-http<2.0.0,>=1.22.0->crewai==0.28.8) (2.2.1)\n",
            "Collecting opentelemetry-exporter-otlp-proto-common==1.22.0 (from opentelemetry-exporter-otlp-proto-http<2.0.0,>=1.22.0->crewai==0.28.8)\n",
            "  Downloading opentelemetry_exporter_otlp_proto_common-1.22.0-py3-none-any.whl (17 kB)\n",
            "Collecting opentelemetry-proto==1.22.0 (from opentelemetry-exporter-otlp-proto-http<2.0.0,>=1.22.0->crewai==0.28.8)\n",
            "  Downloading opentelemetry_proto-1.22.0-py3-none-any.whl (50 kB)\n",
            "\u001b[2K     \u001b[90m━━━━━━━━━━━━━━━━━━━━━━━━━━━━━━━━━━━━━━━━\u001b[0m \u001b[32m50.8/50.8 kB\u001b[0m \u001b[31m6.5 MB/s\u001b[0m eta \u001b[36m0:00:00\u001b[0m\n",
            "\u001b[?25hCollecting opentelemetry-sdk<2.0.0,>=1.22.0 (from crewai==0.28.8)\n",
            "  Downloading opentelemetry_sdk-1.22.0-py3-none-any.whl (105 kB)\n",
            "\u001b[2K     \u001b[90m━━━━━━━━━━━━━━━━━━━━━━━━━━━━━━━━━━━━━━━━\u001b[0m \u001b[32m105.6/105.6 kB\u001b[0m \u001b[31m14.0 MB/s\u001b[0m eta \u001b[36m0:00:00\u001b[0m\n",
            "\u001b[?25hCollecting grpcio-tools>=1.41.0 (from qdrant-client)\n",
            "  Downloading grpcio_tools-1.63.0-cp310-cp310-manylinux_2_17_x86_64.manylinux2014_x86_64.whl (2.3 MB)\n",
            "\u001b[2K     \u001b[90m━━━━━━━━━━━━━━━━━━━━━━━━━━━━━━━━━━━━━━━━\u001b[0m \u001b[32m2.3/2.3 MB\u001b[0m \u001b[31m22.0 MB/s\u001b[0m eta \u001b[36m0:00:00\u001b[0m\n",
            "\u001b[?25hINFO: pip is looking at multiple versions of opentelemetry-proto to determine which version is compatible with other requirements. This could take a while.\n",
            "  Downloading grpcio_tools-1.62.2-cp310-cp310-manylinux_2_17_x86_64.manylinux2014_x86_64.whl (2.8 MB)\n",
            "\u001b[2K     \u001b[90m━━━━━━━━━━━━━━━━━━━━━━━━━━━━━━━━━━━━━━━━\u001b[0m \u001b[32m2.8/2.8 MB\u001b[0m \u001b[31m32.4 MB/s\u001b[0m eta \u001b[36m0:00:00\u001b[0m\n",
            "\u001b[?25hCollecting protobuf<5.0dev,>=4.21.6 (from grpcio-tools>=1.41.0->qdrant-client)\n",
            "  Downloading protobuf-4.25.3-cp37-abi3-manylinux2014_x86_64.whl (294 kB)\n",
            "\u001b[2K     \u001b[90m━━━━━━━━━━━━━━━━━━━━━━━━━━━━━━━━━━━━━━━━\u001b[0m \u001b[32m294.6/294.6 kB\u001b[0m \u001b[31m25.8 MB/s\u001b[0m eta \u001b[36m0:00:00\u001b[0m\n",
            "\u001b[?25hRequirement already satisfied: opentelemetry-semantic-conventions==0.46b0 in /usr/local/lib/python3.10/dist-packages (from opentelemetry-sdk<2.0.0,>=1.22.0->crewai==0.28.8) (0.46b0)\n",
            "Requirement already satisfied: annotated-types>=0.4.0 in /usr/local/lib/python3.10/dist-packages (from pydantic<3.0.0,>=2.4.2->crewai==0.28.8) (0.7.0)\n",
            "Requirement already satisfied: pydantic-core==2.18.2 in /usr/local/lib/python3.10/dist-packages (from pydantic<3.0.0,>=2.4.2->crewai==0.28.8) (2.18.2)\n",
            "Requirement already satisfied: nodeenv>=1.6.0 in /usr/local/lib/python3.10/dist-packages (from pyright<2.0.0,>=1.1.350->crewai_tools==0.1.6) (1.9.0)\n",
            "Requirement already satisfied: iniconfig in /usr/local/lib/python3.10/dist-packages (from pytest<9.0.0,>=8.0.0->crewai_tools==0.1.6) (2.0.0)\n",
            "Requirement already satisfied: pluggy<2.0,>=1.5 in /usr/local/lib/python3.10/dist-packages (from pytest<9.0.0,>=8.0.0->crewai_tools==0.1.6) (1.5.0)\n",
            "Requirement already satisfied: exceptiongroup>=1.0.0rc8 in /usr/local/lib/python3.10/dist-packages (from pytest<9.0.0,>=8.0.0->crewai_tools==0.1.6) (1.2.1)\n",
            "Requirement already satisfied: tomli>=1 in /usr/local/lib/python3.10/dist-packages (from pytest<9.0.0,>=8.0.0->crewai_tools==0.1.6) (2.0.1)\n",
            "Requirement already satisfied: charset-normalizer<4,>=2 in /usr/local/lib/python3.10/dist-packages (from requests<3.0.0,>=2.31.0->crewai_tools==0.1.6) (3.3.2)\n",
            "Requirement already satisfied: trio~=0.17 in /usr/local/lib/python3.10/dist-packages (from selenium<5.0.0,>=4.18.1->crewai_tools==0.1.6) (0.25.1)\n",
            "Requirement already satisfied: trio-websocket~=0.9 in /usr/local/lib/python3.10/dist-packages (from selenium<5.0.0,>=4.18.1->crewai_tools==0.1.6) (0.11.1)\n",
            "Requirement already satisfied: greenlet!=0.4.17 in /usr/local/lib/python3.10/dist-packages (from SQLAlchemy<3,>=1.4->langchain_community==0.0.29) (3.0.3)\n",
            "Requirement already satisfied: Mako in /usr/local/lib/python3.10/dist-packages (from alembic<2.0.0,>=1.13.1->embedchain<0.2.0,>=0.1.98->crewai==0.28.8) (1.3.5)\n",
            "Requirement already satisfied: pyproject_hooks in /usr/local/lib/python3.10/dist-packages (from build>=1.0.3->chromadb<0.5.0,>=0.4.22->crewai_tools==0.1.6) (1.1.0)\n",
            "Requirement already satisfied: wrapt<2,>=1.10 in /usr/local/lib/python3.10/dist-packages (from deprecated>=1.2.6->opentelemetry-api<2.0.0,>=1.22.0->crewai==0.28.8) (1.14.1)\n",
            "Requirement already satisfied: starlette<0.38.0,>=0.37.2 in /usr/local/lib/python3.10/dist-packages (from fastapi>=0.95.2->chromadb<0.5.0,>=0.4.22->crewai_tools==0.1.6) (0.37.2)\n",
            "Requirement already satisfied: gitdb<5,>=4.0.1 in /usr/local/lib/python3.10/dist-packages (from gitpython<4.0.0,>=3.1.38->embedchain<0.2.0,>=0.1.98->crewai==0.28.8) (4.0.11)\n",
            "Requirement already satisfied: google-api-core[grpc]!=2.0.*,!=2.1.*,!=2.2.*,!=2.3.*,!=2.4.*,!=2.5.*,!=2.6.*,!=2.7.*,<3.0.0dev,>=1.34.1 in /usr/local/lib/python3.10/dist-packages (from google-cloud-aiplatform<2.0.0,>=1.26.1->embedchain<0.2.0,>=0.1.98->crewai==0.28.8) (2.11.1)\n",
            "Requirement already satisfied: google-auth<3.0.0dev,>=2.14.1 in /usr/local/lib/python3.10/dist-packages (from google-cloud-aiplatform<2.0.0,>=1.26.1->embedchain<0.2.0,>=0.1.98->crewai==0.28.8) (2.27.0)\n",
            "Requirement already satisfied: proto-plus<2.0.0dev,>=1.22.0 in /usr/local/lib/python3.10/dist-packages (from google-cloud-aiplatform<2.0.0,>=1.26.1->embedchain<0.2.0,>=0.1.98->crewai==0.28.8) (1.23.0)\n",
            "Requirement already satisfied: google-cloud-storage<3.0.0dev,>=1.32.0 in /usr/local/lib/python3.10/dist-packages (from google-cloud-aiplatform<2.0.0,>=1.26.1->embedchain<0.2.0,>=0.1.98->crewai==0.28.8) (2.8.0)\n",
            "Requirement already satisfied: google-cloud-bigquery!=3.20.0,<4.0.0dev,>=1.15.0 in /usr/local/lib/python3.10/dist-packages (from google-cloud-aiplatform<2.0.0,>=1.26.1->embedchain<0.2.0,>=0.1.98->crewai==0.28.8) (3.21.0)\n",
            "Requirement already satisfied: google-cloud-resource-manager<3.0.0dev,>=1.3.3 in /usr/local/lib/python3.10/dist-packages (from google-cloud-aiplatform<2.0.0,>=1.26.1->embedchain<0.2.0,>=0.1.98->crewai==0.28.8) (1.12.3)\n",
            "Requirement already satisfied: shapely<3.0.0dev in /usr/local/lib/python3.10/dist-packages (from google-cloud-aiplatform<2.0.0,>=1.26.1->embedchain<0.2.0,>=0.1.98->crewai==0.28.8) (2.0.4)\n",
            "Collecting hyperframe<7,>=6.0 (from h2<5,>=3->httpx[http2]>=0.20.0->qdrant-client)\n",
            "  Downloading hyperframe-6.0.1-py3-none-any.whl (12 kB)\n",
            "Collecting hpack<5,>=4.0 (from h2<5,>=3->httpx[http2]>=0.20.0->qdrant-client)\n",
            "  Downloading hpack-4.0.0-py3-none-any.whl (32 kB)\n",
            "Requirement already satisfied: zipp>=0.5 in /usr/local/lib/python3.10/dist-packages (from importlib-metadata<=7.1,>=6.0->opentelemetry-api<2.0.0,>=1.22.0->crewai==0.28.8) (3.18.2)\n",
            "Requirement already satisfied: jsonpointer>=1.9 in /usr/local/lib/python3.10/dist-packages (from jsonpatch<2.0,>=1.33->langchain<0.2.0,>=0.1.10->crewai==0.28.8) (2.4)\n",
            "Requirement already satisfied: six>=1.9.0 in /usr/local/lib/python3.10/dist-packages (from kubernetes>=28.1.0->chromadb<0.5.0,>=0.4.22->crewai_tools==0.1.6) (1.16.0)\n",
            "Requirement already satisfied: python-dateutil>=2.5.3 in /usr/local/lib/python3.10/dist-packages (from kubernetes>=28.1.0->chromadb<0.5.0,>=0.4.22->crewai_tools==0.1.6) (2.8.2)\n",
            "Requirement already satisfied: websocket-client!=0.40.0,!=0.41.*,!=0.42.*,>=0.32.0 in /usr/local/lib/python3.10/dist-packages (from kubernetes>=28.1.0->chromadb<0.5.0,>=0.4.22->crewai_tools==0.1.6) (1.8.0)\n",
            "Requirement already satisfied: requests-oauthlib in /usr/local/lib/python3.10/dist-packages (from kubernetes>=28.1.0->chromadb<0.5.0,>=0.4.22->crewai_tools==0.1.6) (1.3.1)\n",
            "Requirement already satisfied: oauthlib>=3.2.2 in /usr/local/lib/python3.10/dist-packages (from kubernetes>=28.1.0->chromadb<0.5.0,>=0.4.22->crewai_tools==0.1.6) (3.2.2)\n",
            "Requirement already satisfied: coloredlogs in /usr/local/lib/python3.10/dist-packages (from onnxruntime>=1.14.1->chromadb<0.5.0,>=0.4.22->crewai_tools==0.1.6) (15.0.1)\n",
            "Requirement already satisfied: flatbuffers in /usr/local/lib/python3.10/dist-packages (from onnxruntime>=1.14.1->chromadb<0.5.0,>=0.4.22->crewai_tools==0.1.6) (24.3.25)\n",
            "Requirement already satisfied: sympy in /usr/local/lib/python3.10/dist-packages (from onnxruntime>=1.14.1->chromadb<0.5.0,>=0.4.22->crewai_tools==0.1.6) (1.12)\n",
            "Requirement already satisfied: opentelemetry-instrumentation-asgi==0.46b0 in /usr/local/lib/python3.10/dist-packages (from opentelemetry-instrumentation-fastapi>=0.41b0->chromadb<0.5.0,>=0.4.22->crewai_tools==0.1.6) (0.46b0)\n",
            "Requirement already satisfied: opentelemetry-instrumentation==0.46b0 in /usr/local/lib/python3.10/dist-packages (from opentelemetry-instrumentation-fastapi>=0.41b0->chromadb<0.5.0,>=0.4.22->crewai_tools==0.1.6) (0.46b0)\n",
            "Requirement already satisfied: opentelemetry-util-http==0.46b0 in /usr/local/lib/python3.10/dist-packages (from opentelemetry-instrumentation-fastapi>=0.41b0->chromadb<0.5.0,>=0.4.22->crewai_tools==0.1.6) (0.46b0)\n",
            "Requirement already satisfied: asgiref~=3.0 in /usr/local/lib/python3.10/dist-packages (from opentelemetry-instrumentation-asgi==0.46b0->opentelemetry-instrumentation-fastapi>=0.41b0->chromadb<0.5.0,>=0.4.22->crewai_tools==0.1.6) (3.8.1)\n",
            "Requirement already satisfied: monotonic>=1.5 in /usr/local/lib/python3.10/dist-packages (from posthog>=2.4.0->chromadb<0.5.0,>=0.4.22->crewai_tools==0.1.6) (1.6)\n",
            "Requirement already satisfied: pyjwt[crypto]>=2.4.0 in /usr/local/lib/python3.10/dist-packages (from PyGithub<2.0.0,>=1.59.1->embedchain<0.2.0,>=0.1.98->crewai==0.28.8) (2.8.0)\n",
            "Requirement already satisfied: pynacl>=1.4.0 in /usr/local/lib/python3.10/dist-packages (from PyGithub<2.0.0,>=1.59.1->embedchain<0.2.0,>=0.1.98->crewai==0.28.8) (1.5.0)\n",
            "Requirement already satisfied: decorator>=3.4.2 in /usr/local/lib/python3.10/dist-packages (from retry>=0.9.2->lancedb<0.6.0,>=0.5.4->crewai_tools==0.1.6) (4.4.2)\n",
            "Requirement already satisfied: py<2.0.0,>=1.4.26 in /usr/local/lib/python3.10/dist-packages (from retry>=0.9.2->lancedb<0.6.0,>=0.5.4->crewai_tools==0.1.6) (1.11.0)\n",
            "Requirement already satisfied: markdown-it-py>=2.2.0 in /usr/local/lib/python3.10/dist-packages (from rich<14.0.0,>=13.7.0->embedchain<0.2.0,>=0.1.98->crewai==0.28.8) (3.0.0)\n",
            "Requirement already satisfied: pygments<3.0.0,>=2.13.0 in /usr/local/lib/python3.10/dist-packages (from rich<14.0.0,>=13.7.0->embedchain<0.2.0,>=0.1.98->crewai==0.28.8) (2.16.1)\n",
            "Requirement already satisfied: huggingface-hub<1.0,>=0.16.4 in /usr/local/lib/python3.10/dist-packages (from tokenizers>=0.13.2->chromadb<0.5.0,>=0.4.22->crewai_tools==0.1.6) (0.23.1)\n",
            "Requirement already satisfied: sortedcontainers in /usr/local/lib/python3.10/dist-packages (from trio~=0.17->selenium<5.0.0,>=4.18.1->crewai_tools==0.1.6) (2.4.0)\n",
            "Requirement already satisfied: outcome in /usr/local/lib/python3.10/dist-packages (from trio~=0.17->selenium<5.0.0,>=4.18.1->crewai_tools==0.1.6) (1.3.0.post0)\n",
            "Requirement already satisfied: wsproto>=0.14 in /usr/local/lib/python3.10/dist-packages (from trio-websocket~=0.9->selenium<5.0.0,>=4.18.1->crewai_tools==0.1.6) (1.2.0)\n",
            "Requirement already satisfied: mypy-extensions>=0.3.0 in /usr/local/lib/python3.10/dist-packages (from typing-inspect<1,>=0.4.0->dataclasses-json<0.7,>=0.5.7->langchain_community==0.0.29) (1.0.0)\n",
            "Requirement already satisfied: pysocks!=1.5.7,<2.0,>=1.5.6 in /usr/local/lib/python3.10/dist-packages (from urllib3<3,>=1.26.14->qdrant-client) (1.7.1)\n",
            "Requirement already satisfied: httptools>=0.5.0 in /usr/local/lib/python3.10/dist-packages (from uvicorn[standard]>=0.18.3->chromadb<0.5.0,>=0.4.22->crewai_tools==0.1.6) (0.6.1)\n",
            "Requirement already satisfied: uvloop!=0.15.0,!=0.15.1,>=0.14.0 in /usr/local/lib/python3.10/dist-packages (from uvicorn[standard]>=0.18.3->chromadb<0.5.0,>=0.4.22->crewai_tools==0.1.6) (0.19.0)\n",
            "Requirement already satisfied: watchfiles>=0.13 in /usr/local/lib/python3.10/dist-packages (from uvicorn[standard]>=0.18.3->chromadb<0.5.0,>=0.4.22->crewai_tools==0.1.6) (0.22.0)\n",
            "Requirement already satisfied: websockets>=10.4 in /usr/local/lib/python3.10/dist-packages (from uvicorn[standard]>=0.18.3->chromadb<0.5.0,>=0.4.22->crewai_tools==0.1.6) (12.0)\n",
            "Requirement already satisfied: mutagen in /usr/local/lib/python3.10/dist-packages (from yt_dlp<2024.0.0,>=2023.11.14->embedchain<0.2.0,>=0.1.98->crewai==0.28.8) (1.47.0)\n",
            "Requirement already satisfied: pycryptodomex in /usr/local/lib/python3.10/dist-packages (from yt_dlp<2024.0.0,>=2023.11.14->embedchain<0.2.0,>=0.1.98->crewai==0.28.8) (3.20.0)\n",
            "Requirement already satisfied: brotli in /usr/local/lib/python3.10/dist-packages (from yt_dlp<2024.0.0,>=2023.11.14->embedchain<0.2.0,>=0.1.98->crewai==0.28.8) (1.1.0)\n",
            "Requirement already satisfied: smmap<6,>=3.0.1 in /usr/local/lib/python3.10/dist-packages (from gitdb<5,>=4.0.1->gitpython<4.0.0,>=3.1.38->embedchain<0.2.0,>=0.1.98->crewai==0.28.8) (5.0.1)\n",
            "Requirement already satisfied: grpcio-status<2.0.dev0,>=1.33.2 in /usr/local/lib/python3.10/dist-packages (from google-api-core[grpc]!=2.0.*,!=2.1.*,!=2.2.*,!=2.3.*,!=2.4.*,!=2.5.*,!=2.6.*,!=2.7.*,<3.0.0dev,>=1.34.1->google-cloud-aiplatform<2.0.0,>=1.26.1->embedchain<0.2.0,>=0.1.98->crewai==0.28.8) (1.48.2)\n",
            "Requirement already satisfied: pyasn1-modules>=0.2.1 in /usr/local/lib/python3.10/dist-packages (from google-auth<3.0.0dev,>=2.14.1->google-cloud-aiplatform<2.0.0,>=1.26.1->embedchain<0.2.0,>=0.1.98->crewai==0.28.8) (0.4.0)\n",
            "Requirement already satisfied: rsa<5,>=3.1.4 in /usr/local/lib/python3.10/dist-packages (from google-auth<3.0.0dev,>=2.14.1->google-cloud-aiplatform<2.0.0,>=1.26.1->embedchain<0.2.0,>=0.1.98->crewai==0.28.8) (4.9)\n",
            "Requirement already satisfied: google-cloud-core<3.0.0dev,>=1.6.0 in /usr/local/lib/python3.10/dist-packages (from google-cloud-bigquery!=3.20.0,<4.0.0dev,>=1.15.0->google-cloud-aiplatform<2.0.0,>=1.26.1->embedchain<0.2.0,>=0.1.98->crewai==0.28.8) (2.3.3)\n",
            "Requirement already satisfied: google-resumable-media<3.0dev,>=0.6.0 in /usr/local/lib/python3.10/dist-packages (from google-cloud-bigquery!=3.20.0,<4.0.0dev,>=1.15.0->google-cloud-aiplatform<2.0.0,>=1.26.1->embedchain<0.2.0,>=0.1.98->crewai==0.28.8) (2.7.0)\n",
            "Requirement already satisfied: grpc-google-iam-v1<1.0.0dev,>=0.12.4 in /usr/local/lib/python3.10/dist-packages (from google-cloud-resource-manager<3.0.0dev,>=1.3.3->google-cloud-aiplatform<2.0.0,>=1.26.1->embedchain<0.2.0,>=0.1.98->crewai==0.28.8) (0.13.0)\n",
            "Requirement already satisfied: filelock in /usr/local/lib/python3.10/dist-packages (from huggingface-hub<1.0,>=0.16.4->tokenizers>=0.13.2->chromadb<0.5.0,>=0.4.22->crewai_tools==0.1.6) (3.14.0)\n",
            "Requirement already satisfied: fsspec>=2023.5.0 in /usr/local/lib/python3.10/dist-packages (from huggingface-hub<1.0,>=0.16.4->tokenizers>=0.13.2->chromadb<0.5.0,>=0.4.22->crewai_tools==0.1.6) (2023.6.0)\n",
            "Requirement already satisfied: mdurl~=0.1 in /usr/local/lib/python3.10/dist-packages (from markdown-it-py>=2.2.0->rich<14.0.0,>=13.7.0->embedchain<0.2.0,>=0.1.98->crewai==0.28.8) (0.1.2)\n",
            "Requirement already satisfied: cryptography>=3.4.0 in /usr/local/lib/python3.10/dist-packages (from pyjwt[crypto]>=2.4.0->PyGithub<2.0.0,>=1.59.1->embedchain<0.2.0,>=0.1.98->crewai==0.28.8) (42.0.7)\n",
            "Requirement already satisfied: cffi>=1.4.1 in /usr/local/lib/python3.10/dist-packages (from pynacl>=1.4.0->PyGithub<2.0.0,>=1.59.1->embedchain<0.2.0,>=0.1.98->crewai==0.28.8) (1.16.0)\n",
            "Requirement already satisfied: humanfriendly>=9.1 in /usr/local/lib/python3.10/dist-packages (from coloredlogs->onnxruntime>=1.14.1->chromadb<0.5.0,>=0.4.22->crewai_tools==0.1.6) (10.0)\n",
            "Requirement already satisfied: MarkupSafe>=0.9.2 in /usr/local/lib/python3.10/dist-packages (from Mako->alembic<2.0.0,>=1.13.1->embedchain<0.2.0,>=0.1.98->crewai==0.28.8) (2.1.5)\n",
            "Requirement already satisfied: mpmath>=0.19 in /usr/local/lib/python3.10/dist-packages (from sympy->onnxruntime>=1.14.1->chromadb<0.5.0,>=0.4.22->crewai_tools==0.1.6) (1.3.0)\n",
            "Requirement already satisfied: pycparser in /usr/local/lib/python3.10/dist-packages (from cffi>=1.4.1->pynacl>=1.4.0->PyGithub<2.0.0,>=1.59.1->embedchain<0.2.0,>=0.1.98->crewai==0.28.8) (2.22)\n",
            "Requirement already satisfied: google-crc32c<2.0dev,>=1.0 in /usr/local/lib/python3.10/dist-packages (from google-resumable-media<3.0dev,>=0.6.0->google-cloud-bigquery!=3.20.0,<4.0.0dev,>=1.15.0->google-cloud-aiplatform<2.0.0,>=1.26.1->embedchain<0.2.0,>=0.1.98->crewai==0.28.8) (1.5.0)\n",
            "Requirement already satisfied: pyasn1<0.7.0,>=0.4.6 in /usr/local/lib/python3.10/dist-packages (from pyasn1-modules>=0.2.1->google-auth<3.0.0dev,>=2.14.1->google-cloud-aiplatform<2.0.0,>=1.26.1->embedchain<0.2.0,>=0.1.98->crewai==0.28.8) (0.6.0)\n",
            "Installing collected packages: protobuf, hyperframe, hpack, h2, grpcio-tools, qdrant-client\n",
            "  Attempting uninstall: protobuf\n",
            "    Found existing installation: protobuf 3.20.3\n",
            "    Uninstalling protobuf-3.20.3:\n",
            "      Successfully uninstalled protobuf-3.20.3\n",
            "\u001b[31mERROR: pip's dependency resolver does not currently take into account all the packages that are installed. This behaviour is the source of the following dependency conflicts.\n",
            "tensorflow-metadata 1.15.0 requires protobuf<4.21,>=3.20.3; python_version < \"3.11\", but you have protobuf 4.25.3 which is incompatible.\u001b[0m\u001b[31m\n",
            "\u001b[0mSuccessfully installed grpcio-tools-1.62.2 h2-4.1.0 hpack-4.0.0 hyperframe-6.0.1 protobuf-4.25.3 qdrant-client-1.9.1\n"
          ]
        }
      ]
    },
    {
      "cell_type": "markdown",
      "metadata": {
        "id": "Qu8ToJ2PV29O"
      },
      "source": [
        "- Import libraries"
      ]
    },
    {
      "cell_type": "code",
      "execution_count": 205,
      "metadata": {
        "height": 30,
        "id": "sVdLHib7V29P"
      },
      "outputs": [],
      "source": [
        "from crewai import Agent, Task, Crew, Process\n",
        "from crewai_tools import BaseTool\n",
        "from qdrant_client import QdrantClient\n",
        "from langchain.document_loaders import PDFPlumberLoader\n",
        "from langchain.text_splitter import RecursiveCharacterTextSplitter\n",
        "from langchain.embeddings.openai import OpenAIEmbeddings\n",
        "from langchain.vectorstores.qdrant import Qdrant\n",
        "import os"
      ]
    },
    {
      "cell_type": "code",
      "execution_count": 206,
      "metadata": {
        "height": 115,
        "id": "EQGKOXRtV29Q"
      },
      "outputs": [],
      "source": [
        "from google.colab import userdata\n",
        "import os\n",
        "os.environ[\"OPENAI_API_KEY\"] = userdata.get('openai_api_key')\n",
        "os.environ[\"OPENAI_MODEL_NAME\"] = 'gpt-3.5-turbo'"
      ]
    },
    {
      "cell_type": "markdown",
      "source": [
        "#Creating Tools"
      ],
      "metadata": {
        "id": "ql_9pX_H4Kir"
      }
    },
    {
      "cell_type": "markdown",
      "source": [
        "##Rag Creation Tool\n",
        "-Takes input Urls , splits , embeds and indexes into a vector store"
      ],
      "metadata": {
        "id": "PslB0fzR4Sdf"
      }
    },
    {
      "cell_type": "code",
      "source": [
        "class RAGCreationTool(BaseTool):\n",
        "    name: str = \"RAGCreationTool\"\n",
        "    description: str = \"Tool to extract data from online PDFs and create a RAG system.\"\n",
        "\n",
        "    def _run(self, urls: list) -> str:\n",
        "        try:\n",
        "            openai_api_key = userdata.get('openai_api_key')\n",
        "            qdrant_url = userdata.get('qdrant_end')\n",
        "            qdrant_api_key = userdata.get('qdrant')\n",
        "\n",
        "            all_docs = []\n",
        "            for url in urls:\n",
        "                loader = PDFPlumberLoader(url)\n",
        "                data = loader.load()\n",
        "\n",
        "                text_splitter = RecursiveCharacterTextSplitter(\n",
        "                    chunk_size=2000,\n",
        "                    chunk_overlap=200\n",
        "                )\n",
        "                docs = text_splitter.split_documents(data)\n",
        "                all_docs.extend(docs)\n",
        "\n",
        "            embeddings_model = OpenAIEmbeddings(model='text-embedding-ada-002', openai_api_key=openai_api_key)\n",
        "\n",
        "            qdrant = Qdrant.from_documents(\n",
        "                all_docs,\n",
        "                embeddings_model,\n",
        "                url=qdrant_url,\n",
        "                prefer_grpc=True,\n",
        "                api_key=qdrant_api_key,\n",
        "                collection_name=\"policy-agent\",\n",
        "            )\n",
        "\n",
        "            return \"RAG system created successfully with the given policy documents.\"\n",
        "        except Exception as e:\n",
        "            return str(e)\n",
        "\n"
      ],
      "metadata": {
        "id": "6ft4KUvpiQgz"
      },
      "execution_count": 207,
      "outputs": []
    },
    {
      "cell_type": "markdown",
      "source": [
        "# Policy Extracrion Tool"
      ],
      "metadata": {
        "id": "3JJMoEvK5uqb"
      }
    },
    {
      "cell_type": "code",
      "source": [
        "class PolicyExtractionTool(BaseTool):\n",
        "    name: str = \"PolicyExtractionTool\"\n",
        "    description: str = \"Tool to retrieve relevant policy documents from the vector database using project overview and property details.\"\n",
        "\n",
        "    def _run(self, project_overview: str, property_details: str) -> str:\n",
        "        try:\n",
        "            # Retrieve configuration from environment variables\n",
        "            qdrant_end = userdata.get('qdrant_end')\n",
        "            qdrant_api_key = userdata.get('qdrant')\n",
        "            openai_api_key=userdata.get('openai_api_key')\n",
        "\n",
        "            # Initialize Qdrant client\n",
        "            qdrant_client = QdrantClient(url=qdrant_end, api_key=qdrant_api_key)\n",
        "\n",
        "            # Initialize embeddings using OpenAI\n",
        "            embeddings = OpenAIEmbeddings(model='text-embedding-ada-002', openai_api_key=openai_api_key)\n",
        "\n",
        "            # Combine inputs to form the query\n",
        "            query = f\"Project Overview: {project_overview}\\nProperty Details: {property_details}\"\n",
        "\n",
        "            # Embed the input query for vector search\n",
        "            query_result = embeddings.embed_query(query)\n",
        "\n",
        "            # Perform vector search in the \"policy-agent\" collection\n",
        "            response = qdrant_client.search(\n",
        "                collection_name=\"policy-agent\",\n",
        "                query_vector=query_result,\n",
        "                limit=15  # Retrieve top 10 closest vectors\n",
        "            )\n",
        "\n",
        "\n",
        "            return response\n",
        "        except Exception as e:\n",
        "            # Log the exception or handle it as per the application's error handling policy\n",
        "            return f\"Error processing question: {e}\"\n",
        "\n"
      ],
      "metadata": {
        "id": "XJXC4yNo_932"
      },
      "execution_count": 224,
      "outputs": []
    },
    {
      "cell_type": "markdown",
      "source": [
        "#Initialising the tools"
      ],
      "metadata": {
        "id": "G_8x8utAA8iN"
      }
    },
    {
      "cell_type": "code",
      "source": [
        "# Initialize the custom tool\n",
        "policy_tool= PolicyExtractionTool()\n",
        "rag_creation_tool=RAGCreationTool()"
      ],
      "metadata": {
        "id": "0JIYRlKLA_rm"
      },
      "execution_count": 225,
      "outputs": []
    },
    {
      "cell_type": "markdown",
      "source": [
        "#Creating Agents"
      ],
      "metadata": {
        "id": "YzNzRiFaApBi"
      }
    },
    {
      "cell_type": "code",
      "source": [
        "from crewai import Agent\n",
        "\n",
        "rag_expert_agent = Agent(\n",
        "    role='RAG Expert',\n",
        "    goal='Create a RAG system from provided policy URLs and inform the policy agent.',\n",
        "    verbose=True,\n",
        "    memory=True,\n",
        "    backstory=(\"An expert in creating RAG systems from policy documents.\"),\n",
        "    tools=[rag_creation_tool],\n",
        "    allow_delegation=False\n",
        ")\n"
      ],
      "metadata": {
        "id": "sPdfuWbUC6dI"
      },
      "execution_count": 226,
      "outputs": []
    },
    {
      "cell_type": "code",
      "source": [
        "policy_analyst = Agent(\n",
        "    role='Policy Analyst',\n",
        "    goal='Extract eligibility criteria from local and federal policy documents.',\n",
        "    verbose=True,\n",
        "    memory=True,\n",
        "    backstory=(\n",
        "        \"As a seasoned policy analyst, you are adept at navigating complex policy documents \"\n",
        "        \"and extracting relevant information that can aid in securing funding for projects.\"\n",
        "        \"Include all important figures(dates, criterias) that can have impact in the report\"\n",
        "    ),\n",
        "    tools=[policy_tool],\n",
        "    allow_delegation=False\n",
        ")"
      ],
      "metadata": {
        "id": "3myT_RdyaBgQ"
      },
      "execution_count": 227,
      "outputs": []
    },
    {
      "cell_type": "code",
      "source": [
        "risk_assessor = Agent(\n",
        "    role='Risk Assessor',\n",
        "    goal='Assess the timelines and application processes for each financing option.',\n",
        "    verbose=True,\n",
        "    memory=True,\n",
        "    backstory=(\n",
        "        \"With a meticulous approach, you are responsible for evaluating the risks associated \"\n",
        "        \"with different financing options, ensuring that the project stays on track and within budget.\"\n",
        "    ),\n",
        "    tools=[policy_tool],\n",
        "    allow_delegation=False\n",
        ")"
      ],
      "metadata": {
        "id": "Tci-n9eXacjB"
      },
      "execution_count": 228,
      "outputs": []
    },
    {
      "cell_type": "code",
      "source": [
        "financial_analyst = Agent(\n",
        "    role='Financial Analyst',\n",
        "    goal='Generate a detailed report on financing options.',\n",
        "    verbose=True,\n",
        "    memory=True,\n",
        "    backstory=(\n",
        "        \"You excel at financial analysis and are responsible for compiling comprehensive reports \"\n",
        "        \"that provide insights into various financing options, their benefits, and compliance requirements.\"\n",
        "    ),\n",
        "    tools=[policy_tool],\n",
        "    allow_delegation=False\n",
        ")"
      ],
      "metadata": {
        "id": "WShtZiifa5Ym"
      },
      "execution_count": 229,
      "outputs": []
    },
    {
      "cell_type": "code",
      "source": [
        "presentation_specialist = Agent(\n",
        "    role='Presentation Specialist',\n",
        "    goal='Present findings to the property owner.',\n",
        "    verbose=True,\n",
        "    memory=True,\n",
        "    backstory=(\n",
        "        \"You are skilled in creating compelling presentations in document format that effectively communicate complex information \"\n",
        "        \"to stakeholders, helping them make informed decisions.\"\n",
        "    ),\n",
        "    allow_delegation=False\n",
        ")"
      ],
      "metadata": {
        "id": "UTZ9SXsXdCAc"
      },
      "execution_count": 230,
      "outputs": []
    },
    {
      "cell_type": "markdown",
      "source": [
        "#Creating Tasks"
      ],
      "metadata": {
        "id": "049d3ZCqdYpW"
      }
    },
    {
      "cell_type": "code",
      "source": [
        "rag_creation_task = Task(\n",
        "    description=\"Extract data from the provided {policy_documents} and create a RAG system.\",\n",
        "    expected_output=\"Message indicating success or failure of RAG creation.\",\n",
        "    tools=[RAGCreationTool()],\n",
        "    agent=rag_expert_agent\n",
        ")"
      ],
      "metadata": {
        "id": "JgK_HDCuDoaF"
      },
      "execution_count": 231,
      "outputs": []
    },
    {
      "cell_type": "code",
      "source": [
        "policy_extraction_task = Task(\n",
        "    description=(\n",
        "        \"Analyze the provided policy documents to identify eligibility_criteria, \"\n",
        "        \"financing options, subsidies, grants, and incentives applicable to the {project_overview} and {property_details}.\"\n",
        "        \"Use all the details provided in the {project_overview} and {property_details} especially Figures\"\n",
        "    ),\n",
        "    expected_output='A detailed list of eligibility criteria, financing options, subsidies, grants, and incentives.',\n",
        "    agent=policy_analyst\n",
        ")"
      ],
      "metadata": {
        "id": "k_I37TpKdX0u"
      },
      "execution_count": 232,
      "outputs": []
    },
    {
      "cell_type": "code",
      "source": [
        "risk_assessment_task = Task(\n",
        "    description=(\n",
        "        \"Evaluate the application processes and timelines for each identified financing option  \"\n",
        "        \"to determine potential risks and delays keeping in view {project_overview} and {property_details}\"\n",
        "    ),\n",
        "    expected_output='A risk assessment report detailing the application processes and timelines for each financing option.',\n",
        "    context=[policy_extraction_task],\n",
        "    agent=risk_assessor\n",
        ")"
      ],
      "metadata": {
        "id": "Zz2OD0jId68l"
      },
      "execution_count": 233,
      "outputs": []
    },
    {
      "cell_type": "code",
      "source": [
        "financing_task = Task(\n",
        "    description=(\n",
        "        \"Compile a list of financing options, including LIHTC applications, federal and local subsidies, \"\n",
        "        \"green energy grants, and loan programs. Provide an explanation of the potential value, benefits, \"\n",
        "        \"compliance requirements, and timelines for each option.\"\n",
        "        \"Include an explanation of the potential value and benefits each option brings to the project,\"\n",
        "    ),\n",
        "    expected_output='A detailed report on financing options.',\n",
        "    agent=financial_analyst,\n",
        "    context=[policy_extraction_task],\n",
        "    async_execution=False,\n",
        ")"
      ],
      "metadata": {
        "id": "LPLNuhQWd_is"
      },
      "execution_count": 234,
      "outputs": []
    },
    {
      "cell_type": "code",
      "source": [
        "presentation_task = Task(\n",
        "    description=(\n",
        "        \"Create a document presentation  all the insights from the agents. Offer guidance on the next steps \"\n",
        "        \"and application processes.\"\n",
        "    ),\n",
        "    expected_output='A document file showing the key findings and recommendations.',\n",
        "    agent=presentation_specialist,\n",
        "    async_execution=False,\n",
        "    context=[policy_extraction_task,risk_assessment_task,financing_task],\n",
        "    output_file='findings.md'\n",
        ")"
      ],
      "metadata": {
        "id": "pbgXqkmceGRJ"
      },
      "execution_count": 235,
      "outputs": []
    },
    {
      "cell_type": "code",
      "source": [
        "crew = Crew(\n",
        "    agents=[rag_expert_agent,policy_analyst, risk_assessor, financial_analyst, presentation_specialist],\n",
        "    tasks=[rag_creation_task,policy_extraction_task, risk_assessment_task, financing_task, presentation_task],\n",
        "    process=Process.sequential\n",
        ")"
      ],
      "metadata": {
        "colab": {
          "base_uri": "https://localhost:8080/"
        },
        "id": "tb-GNE-WeWRe",
        "outputId": "b7b13129-c0ca-4983-f9b8-51b480c68b85"
      },
      "execution_count": 236,
      "outputs": [
        {
          "output_type": "stream",
          "name": "stderr",
          "text": [
            "WARNING:opentelemetry.trace:Overriding of current TracerProvider is not allowed\n"
          ]
        }
      ]
    },
    {
      "cell_type": "code",
      "source": [
        "result = crew.kickoff(inputs={\n",
        "    'policy_documents': [\n",
        "        \"https://dhcd.dc.gov/sites/default/files/dc/sites/dhcd/publication/attachments/2023%20Qualified%20Allocation%20Plan%2007282023_1.pdf\",\n",
        "        \"https://dhcd.dc.gov/sites/default/files/dc/sites/dhcd/publication/attachments/2023%20Affordable%20Housing%20RFP%2007282023_3.pdf\"\n",
        "    ],\n",
        "    'property_details': {\n",
        "        'address': \"2330 Good Hope Rd., S.E., Washington, D.C.\",\n",
        "        'ward': 8,\n",
        "        'owner': \"LLC (for profit)\",\n",
        "        'units': 257,\n",
        "        'subsidies': \"Section 8\",\n",
        "        'complaints': \"Frequent housing conditions complaints, including asthma triggers and kids’ visits to the ED for asthma attacks.\"\n",
        "    },\n",
        "    'project_overview': {\n",
        "        'description': (\n",
        "            \"The owner of Marbury Plaza wants to finance a comprehensive, deep energy retrofit of the property, \"\n",
        "            \"including a 500kW solar project on the roof. The retrofit measures include: \"\n",
        "            \"Envelope Improvements, Electric Lighting, Efficient Equipment, Heating, Cooling & Ventilation.\"\n",
        "            \"costs include  retrofit_measures $50000000, rooftop_solar_project :$1500000, total :$51500000\"\n",
        "            \"Project timeline is : start : January 2025, completion: July 2026\"\n",
        "            \"compliance standards are Domestic sourcing of materials ,Prevailing wage requirements, Davis-Bacon requirements\"\n",
        "            \"A few assumptions include: The project will meet compliance standards related to workforce and materials,All necessary permits and approvals will be obtained in a timely manner,\"\n",
        "            \"The owner is willing to explore and apply for various financing options.\"\n",
        "        ),\n",
        "    }\n",
        "})"
      ],
      "metadata": {
        "colab": {
          "base_uri": "https://localhost:8080/"
        },
        "collapsed": true,
        "id": "czMPIcKlelks",
        "outputId": "c2b261bf-2946-4ac9-e0c4-9fff94eb7c70"
      },
      "execution_count": 237,
      "outputs": [
        {
          "output_type": "stream",
          "name": "stdout",
          "text": [
            "\n",
            "\n",
            "\u001b[1m> Entering new CrewAgentExecutor chain...\u001b[0m\n",
            "\u001b[32;1m\u001b[1;3mI need to use the RAGCreationTool to extract data from the provided policy URLs and create a RAG system.\n",
            "\n",
            "Action: RAGCreationTool\n",
            "Action Input: {\"urls\": ['https://dhcd.dc.gov/sites/default/files/dc/sites/dhcd/publication/attachments/2023%20Qualified%20Allocation%20Plan%2007282023_1.pdf', 'https://dhcd.dc.gov/sites/default/files/dc/sites/dhcd/publication/attachments/2023%20Affordable%20Housing%20RFP%2007282023_3.pdf']}\u001b[0m\u001b[95m \n",
            "\n",
            "RAG system created successfully with the given policy documents.\n",
            "\u001b[00m\n",
            "\u001b[32;1m\u001b[1;3mFinal Answer: RAG system created successfully with the data extracted from the provided policy URLs.\u001b[0m\n",
            "\n",
            "\u001b[1m> Finished chain.\u001b[0m\n",
            "\n",
            "\n",
            "\u001b[1m> Entering new CrewAgentExecutor chain...\u001b[0m\n",
            "\u001b[32;1m\u001b[1;3mI need to extract eligibility criteria, financing options, subsidies, grants, and incentives from the provided policy documents using the PolicyExtractionTool.\n",
            "\n",
            "Action: PolicyExtractionTool\n",
            "Action Input: {\"project_overview\": \"comprehensive, deep energy retrofit of the property, including a 500kW solar project on the roof. Envelope Improvements, Electric Lighting, Efficient Equipment, Heating, Cooling & Ventilation. Costs include retrofit measures $50,000,000, rooftop solar project: $1,500,000, total: $51,500,000. Project timeline: start January 2025, completion July 2026. Compliance standards: Domestic sourcing of materials, Prevailing wage requirements, Davis-Bacon requirements. Assumptions: Project will meet compliance standards, all necessary permits will be obtained, owner willing to explore financing options.\", \"property_details\": \"2330 Good Hope Rd., S.E., Washington, D.C., Ward 8, owner: LLC (for profit), units: 257, subsidies: Section 8, complaints: Frequent housing conditions complaints, including asthma triggers and kids’ visits to the ED for asthma attacks.\"}\u001b[0m\u001b[95m \n",
            "\n",
            "[ScoredPoint(id='0865cf63-6dff-4e8b-aebb-257302c45b29', version=0, score=0.83574766, payload={'metadata': {'Author': 'DFD 5/29/2019', 'Company': '', 'ContentTypeId': '0x010100C74D2375FCAC004496D58CD71322480C', 'CreationDate': \"D:20230728162703-04'00'\", 'Creator': 'Acrobat PDFMaker 23 for Word', 'Keywords': '', 'ModDate': \"D:20230801150450-04'00'\", 'Producer': 'Adobe PDF Library 23.3.20', 'SourceModified': '', 'Subject': '', 'Title': '', 'file_path': 'https://dhcd.dc.gov/sites/default/files/dc/sites/dhcd/publication/attachments/2023%20Qualified%20Allocation%20Plan%2007282023_1.pdf', 'page': 27, 'source': 'https://dhcd.dc.gov/sites/default/files/dc/sites/dhcd/publication/attachments/2023%20Qualified%20Allocation%20Plan%2007282023_1.pdf', 'total_pages': 59}, 'page_content': 'Performance Standards (BEPS) throughout the initial LIHTC compliance period, Projects that are\\nselected for funding as a District financed or District instrumentality financed project after December\\n31, 2023 with at least 10,000 square feet of Gross Floor Area must maintain net zero energy\\n3 4\\ncompliance through the Greener Government Buildings Act Amendment to the Green Building Act.\\nThe requirements as of the effective date of this QAP based on the type and size of Project are\\nfurther detailed below. DHCD will issue updated guidance or amendments to this QAP as warranted.\\nProjects with building(s) of at least 50,000 square feet of Gross Floor Area:\\n•\\nNew construction Projects must be certified by Enterprise Community\\nPartners using the 2020 Enterprise Green Communities (EGC) Criteria, at the\\n3 D.C. Law 24-306\\n4 See also Green Housing Transition Emergency Declaration Resolution, effective June 20, 2023 (Res. 25-182; 70\\nDCR 009097) and the Green Housing Transition Temporary Amendment Act of 2023, passed on 1st reading on\\nJune 20, 2023 (Engrossed version of Bill 25-0327)\\nD HCD 2023 Qualified Allocation Plan, Page 28 of 59'}, vector=None, shard_key=None), ScoredPoint(id='b91bc583-56eb-4803-9f25-298e3f1d3a58', version=5, score=0.83574766, payload={'metadata': {'Author': 'DFD 5/29/2019', 'Company': '', 'ContentTypeId': '0x010100C74D2375FCAC004496D58CD71322480C', 'CreationDate': \"D:20230728162703-04'00'\", 'Creator': 'Acrobat PDFMaker 23 for Word', 'Keywords': '', 'ModDate': \"D:20230801150450-04'00'\", 'Producer': 'Adobe PDF Library 23.3.20', 'SourceModified': '', 'Subject': '', 'Title': '', 'file_path': 'https://dhcd.dc.gov/sites/default/files/dc/sites/dhcd/publication/attachments/2023%20Qualified%20Allocation%20Plan%2007282023_1.pdf', 'page': 27, 'source': 'https://dhcd.dc.gov/sites/default/files/dc/sites/dhcd/publication/attachments/2023%20Qualified%20Allocation%20Plan%2007282023_1.pdf', 'total_pages': 59}, 'page_content': 'Performance Standards (BEPS) throughout the initial LIHTC compliance period, Projects that are\\nselected for funding as a District financed or District instrumentality financed project after December\\n31, 2023 with at least 10,000 square feet of Gross Floor Area must maintain net zero energy\\n3 4\\ncompliance through the Greener Government Buildings Act Amendment to the Green Building Act.\\nThe requirements as of the effective date of this QAP based on the type and size of Project are\\nfurther detailed below. DHCD will issue updated guidance or amendments to this QAP as warranted.\\nProjects with building(s) of at least 50,000 square feet of Gross Floor Area:\\n•\\nNew construction Projects must be certified by Enterprise Community\\nPartners using the 2020 Enterprise Green Communities (EGC) Criteria, at the\\n3 D.C. Law 24-306\\n4 See also Green Housing Transition Emergency Declaration Resolution, effective June 20, 2023 (Res. 25-182; 70\\nDCR 009097) and the Green Housing Transition Temporary Amendment Act of 2023, passed on 1st reading on\\nJune 20, 2023 (Engrossed version of Bill 25-0327)\\nD HCD 2023 Qualified Allocation Plan, Page 28 of 59'}, vector=None, shard_key=None), ScoredPoint(id='5534f368-d779-4975-8b3b-426a35d1f312', version=2, score=0.83219206, payload={'metadata': {'Author': 'Chris Dickersin-Prokopp', 'Category': 'Request for Proposals', 'Company': 'DHCD', 'ContentTypeId': '0x010100C74D2375FCAC004496D58CD71322480C', 'CreationDate': \"D:20230728170152-04'00'\", 'Creator': 'Acrobat PDFMaker 23 for Word', 'Keywords': '\"Affordable Housing; Permanent Supportive Housing; Request for Proposals; DHCD\"', 'ModDate': \"D:20230815162708-04'00'\", 'Producer': 'Adobe PDF Library 23.3.20', 'SourceModified': '', 'Subject': 'Affordable Housing', 'Title': '2023 Consolidated Request for Proposals for Affordable Housing Projects', 'file_path': 'https://dhcd.dc.gov/sites/default/files/dc/sites/dhcd/publication/attachments/2023%20Affordable%20Housing%20RFP%2007282023_3.pdf', 'page': 33, 'source': 'https://dhcd.dc.gov/sites/default/files/dc/sites/dhcd/publication/attachments/2023%20Affordable%20Housing%20RFP%2007282023_3.pdf', 'total_pages': 92}, 'page_content': 'pursuing EGC Plus with ZERH, the Project should utilize the Enterprise 5.2b temporary\\nZERH pathway (dated March 14, 2022)\\nProjects pursuing LEED certification (LEED for Homes, LEED for Homes Multifamily\\nMidrise, LEED Zero Energy) must be certified by the US Green Building Council. At the\\ntime of submission, upon consultation with your team’s design professionals, the\\nappropriate completed LEED checklist must be submitted, demonstrating compliance\\nwith all prerequisites and sufficient points to achieve LEED Silver or above. Please\\nnote that submission of evidence of an integrated design charrette is not mandatory\\nfor LEED Projects but is strongly encouraged. If selected for financing, as a condition\\nprecedent to loan closing, Project teams must be registered with LEED Online and add\\nthe DC Government account (green.building@dc.gov) to the LEED Online Project\\nteam. Once construction is complete, Projects must demonstrate that they have\\nachieved the appropriate certification.\\nSolar Requirements\\nAll Projects must install solar panels or submit a waiver for this requirement if solar\\npanels cannot be installed on the building. Projects should include specifications for\\nthe system in the schematic plans and related funding sources should be evident in the\\n2023 DHCD Consolidated Request for Proposals 34'}, vector=None, shard_key=None), ScoredPoint(id='e609650f-64e8-423d-afc9-03c4d4dc9294', version=7, score=0.83219206, payload={'metadata': {'Author': 'Chris Dickersin-Prokopp', 'Category': 'Request for Proposals', 'Company': 'DHCD', 'ContentTypeId': '0x010100C74D2375FCAC004496D58CD71322480C', 'CreationDate': \"D:20230728170152-04'00'\", 'Creator': 'Acrobat PDFMaker 23 for Word', 'Keywords': '\"Affordable Housing; Permanent Supportive Housing; Request for Proposals; DHCD\"', 'ModDate': \"D:20230815162708-04'00'\", 'Producer': 'Adobe PDF Library 23.3.20', 'SourceModified': '', 'Subject': 'Affordable Housing', 'Title': '2023 Consolidated Request for Proposals for Affordable Housing Projects', 'file_path': 'https://dhcd.dc.gov/sites/default/files/dc/sites/dhcd/publication/attachments/2023%20Affordable%20Housing%20RFP%2007282023_3.pdf', 'page': 33, 'source': 'https://dhcd.dc.gov/sites/default/files/dc/sites/dhcd/publication/attachments/2023%20Affordable%20Housing%20RFP%2007282023_3.pdf', 'total_pages': 92}, 'page_content': 'pursuing EGC Plus with ZERH, the Project should utilize the Enterprise 5.2b temporary\\nZERH pathway (dated March 14, 2022)\\nProjects pursuing LEED certification (LEED for Homes, LEED for Homes Multifamily\\nMidrise, LEED Zero Energy) must be certified by the US Green Building Council. At the\\ntime of submission, upon consultation with your team’s design professionals, the\\nappropriate completed LEED checklist must be submitted, demonstrating compliance\\nwith all prerequisites and sufficient points to achieve LEED Silver or above. Please\\nnote that submission of evidence of an integrated design charrette is not mandatory\\nfor LEED Projects but is strongly encouraged. If selected for financing, as a condition\\nprecedent to loan closing, Project teams must be registered with LEED Online and add\\nthe DC Government account (green.building@dc.gov) to the LEED Online Project\\nteam. Once construction is complete, Projects must demonstrate that they have\\nachieved the appropriate certification.\\nSolar Requirements\\nAll Projects must install solar panels or submit a waiver for this requirement if solar\\npanels cannot be installed on the building. Projects should include specifications for\\nthe system in the schematic plans and related funding sources should be evident in the\\n2023 DHCD Consolidated Request for Proposals 34'}, vector=None, shard_key=None), ScoredPoint(id='9d26cb6d-a29e-499c-84af-0c365ee5a282', version=8, score=0.83062136, payload={'metadata': {'Author': 'Chris Dickersin-Prokopp', 'Category': 'Request for Proposals', 'Company': 'DHCD', 'ContentTypeId': '0x010100C74D2375FCAC004496D58CD71322480C', 'CreationDate': \"D:20230728170152-04'00'\", 'Creator': 'Acrobat PDFMaker 23 for Word', 'Keywords': '\"Affordable Housing; Permanent Supportive Housing; Request for Proposals; DHCD\"', 'ModDate': \"D:20230815162708-04'00'\", 'Producer': 'Adobe PDF Library 23.3.20', 'SourceModified': '', 'Subject': 'Affordable Housing', 'Title': '2023 Consolidated Request for Proposals for Affordable Housing Projects', 'file_path': 'https://dhcd.dc.gov/sites/default/files/dc/sites/dhcd/publication/attachments/2023%20Affordable%20Housing%20RFP%2007282023_3.pdf', 'page': 68, 'source': 'https://dhcd.dc.gov/sites/default/files/dc/sites/dhcd/publication/attachments/2023%20Affordable%20Housing%20RFP%2007282023_3.pdf', 'total_pages': 92}, 'page_content': 'over or under-budgeted\\n•\\nRecent operating history (which provides the initial basis for projecting future\\nexpenses) will be required to be provided and any projected adjustment to\\nutility and maintenance costs given equipment upgrades in the renovation\\nprocess will need to be described.\\n•\\nInsurance may be higher for the single-site LEC owner. Insurance line item\\nshould be based on actual quote from an insurance provider.\\n•\\nLEC is expected to apply for all eligible real estate tax\\nabatements/exemptions and reflect such expense reductions in the budget.\\n•\\nLEC is expected to include an annual Resident Training line item. Minimum is\\ngreater of $100/unit and $1,000 per project; higher budgeted amount may\\nbe required at DHCD’s discretion.\\n•\\nAssume 3% annual escalation\\nCapitalized Operating 6 months of operating expenses and must pay debt service payments.\\nand Debt Service\\nReserves:\\nAnnual Reserve Deposit Annual budgeted replacement reserve of $400/unit and operating reserve of\\nRequirements: $200/unit.\\nVacancy Rate: 7% vacancy and collection loss factor\\nDebt Service Coverage\\nMust Pay Debt in 1st Position – 1.15 to 1.25 DSCR by end of first year of sustained\\n(DSCR) Ratio (Senior\\noperations\\nDebt):\\n•\\nRehab Costs and Fees: Refer to Section V(B) in RFP for current upper limit for rehab costs per\\nsquare feet based on building type as well as applicable green building\\nrequirements for project\\n•\\nRehab scope and cost estimate will be carefully reviewed to ensure\\nproperty’s expected capital needs over the next 15-year period, as identified\\nin the property capital needs assessment, are being addressed and that the\\nrenovation budget is adequate\\n•\\nBorrower must provide a capital replacement plan for any major systems\\nreplacements that are not being contemplated as part of the proposed\\nrenovation scope\\n•\\nGeneral Contractor Fees as a percentage of net construction costs: Builder’s\\nProfit is up to 6%; Overhead is up to 2%; and General'}, vector=None, shard_key=None), ScoredPoint(id='b8039b71-9631-4f26-b527-48a870c3b524', version=3, score=0.83059853, payload={'metadata': {'Author': 'Chris Dickersin-Prokopp', 'Category': 'Request for Proposals', 'Company': 'DHCD', 'ContentTypeId': '0x010100C74D2375FCAC004496D58CD71322480C', 'CreationDate': \"D:20230728170152-04'00'\", 'Creator': 'Acrobat PDFMaker 23 for Word', 'Keywords': '\"Affordable Housing; Permanent Supportive Housing; Request for Proposals; DHCD\"', 'ModDate': \"D:20230815162708-04'00'\", 'Producer': 'Adobe PDF Library 23.3.20', 'SourceModified': '', 'Subject': 'Affordable Housing', 'Title': '2023 Consolidated Request for Proposals for Affordable Housing Projects', 'file_path': 'https://dhcd.dc.gov/sites/default/files/dc/sites/dhcd/publication/attachments/2023%20Affordable%20Housing%20RFP%2007282023_3.pdf', 'page': 68, 'source': 'https://dhcd.dc.gov/sites/default/files/dc/sites/dhcd/publication/attachments/2023%20Affordable%20Housing%20RFP%2007282023_3.pdf', 'total_pages': 92}, 'page_content': 'over or under-budgeted\\n•\\nRecent operating history (which provides the initial basis for projecting future\\nexpenses) will be required to be provided and any projected adjustment to\\nutility and maintenance costs given equipment upgrades in the renovation\\nprocess will need to be described.\\n•\\nInsurance may be higher for the single-site LEC owner. Insurance line item\\nshould be based on actual quote from an insurance provider.\\n•\\nLEC is expected to apply for all eligible real estate tax\\nabatements/exemptions and reflect such expense reductions in the budget.\\n•\\nLEC is expected to include an annual Resident Training line item. Minimum is\\ngreater of $100/unit and $1,000 per project; higher budgeted amount may\\nbe required at DHCD’s discretion.\\n•\\nAssume 3% annual escalation\\nCapitalized Operating 6 months of operating expenses and must pay debt service payments.\\nand Debt Service\\nReserves:\\nAnnual Reserve Deposit Annual budgeted replacement reserve of $400/unit and operating reserve of\\nRequirements: $200/unit.\\nVacancy Rate: 7% vacancy and collection loss factor\\nDebt Service Coverage\\nMust Pay Debt in 1st Position – 1.15 to 1.25 DSCR by end of first year of sustained\\n(DSCR) Ratio (Senior\\noperations\\nDebt):\\n•\\nRehab Costs and Fees: Refer to Section V(B) in RFP for current upper limit for rehab costs per\\nsquare feet based on building type as well as applicable green building\\nrequirements for project\\n•\\nRehab scope and cost estimate will be carefully reviewed to ensure\\nproperty’s expected capital needs over the next 15-year period, as identified\\nin the property capital needs assessment, are being addressed and that the\\nrenovation budget is adequate\\n•\\nBorrower must provide a capital replacement plan for any major systems\\nreplacements that are not being contemplated as part of the proposed\\nrenovation scope\\n•\\nGeneral Contractor Fees as a percentage of net construction costs: Builder’s\\nProfit is up to 6%; Overhead is up to 2%; and General'}, vector=None, shard_key=None), ScoredPoint(id='4ed2e816-a49e-4c91-b334-63a9cfcf0473', version=6, score=0.8277235, payload={'metadata': {'Author': 'DFD 5/29/2019', 'Company': '', 'ContentTypeId': '0x010100C74D2375FCAC004496D58CD71322480C', 'CreationDate': \"D:20230728162703-04'00'\", 'Creator': 'Acrobat PDFMaker 23 for Word', 'Keywords': '', 'ModDate': \"D:20230801150450-04'00'\", 'Producer': 'Adobe PDF Library 23.3.20', 'SourceModified': '', 'Subject': '', 'Title': '', 'file_path': 'https://dhcd.dc.gov/sites/default/files/dc/sites/dhcd/publication/attachments/2023%20Qualified%20Allocation%20Plan%2007282023_1.pdf', 'page': 38, 'source': 'https://dhcd.dc.gov/sites/default/files/dc/sites/dhcd/publication/attachments/2023%20Qualified%20Allocation%20Plan%2007282023_1.pdf', 'total_pages': 59}, 'page_content': '•\\nBuilding electrification with no on-site combustion\\n•\\nCompletion of the DOEE Resilience and Solar Assessment Tool\\n(https://doee.dc.gov/sites/default/files/dc/sites/ddoe/service_content/attac\\nhments/DC%20DOEE%20Resilience%20Tool%20Manual-8.28.19.pdf)\\n•\\nEnterprise Green Communities Criterion 6.5 Environmentally Responsible\\nMaterial Selection for Concrete, Steel, and Insulation\\nSpecifically, the EGC Criterion 6.5 requires submitting a publicly disclosed Environmental\\nProduct Declaration (EPD) for 90% by volume for all (concrete/steel/insulation) used in the\\nProject. Clearly indicate the total Global Warming Potential (GWP). Only new products\\nshould be counted; existing/reused/salvaged products are exempt.\\nAny Project claiming points in this category must demonstrate the capacity and experience to\\nachieve certification, and to incorporate the innovative features specified. The architectural\\nplans and Project budgets (development and operating) submitted in the application must\\nreflect the commitment to certification and the features described. Such features may include\\nsub-metering of water, as described further in PAMD’s Utility Allowance Guidelines, available\\nhere: https://dhcd.dc.gov/service/project-monitoring.\\nResident Services\\nPoints will be awarded to Projects proposing high-quality, comprehensive property-wide resident\\nservices. Such services are in addition to the PSH case management services that serve a limited\\nresident population with more intensive needs. Points will be awarded to applications with a\\nresident services plan where the core resident services are expected to be funded and sustained\\nwith sources of funding outside the Project (e.g., fundraising or supported through a portion of\\ndeveloper fee set aside and reserved for this purpose or a combination of developer fee and\\norganizational fundraising). Projects will be awarded points if they demonstrate outside funding is'}, vector=None, shard_key=None), ScoredPoint(id='70eb618d-eca3-4cd1-9389-abefe47e2538', version=1, score=0.82770026, payload={'metadata': {'Author': 'DFD 5/29/2019', 'Company': '', 'ContentTypeId': '0x010100C74D2375FCAC004496D58CD71322480C', 'CreationDate': \"D:20230728162703-04'00'\", 'Creator': 'Acrobat PDFMaker 23 for Word', 'Keywords': '', 'ModDate': \"D:20230801150450-04'00'\", 'Producer': 'Adobe PDF Library 23.3.20', 'SourceModified': '', 'Subject': '', 'Title': '', 'file_path': 'https://dhcd.dc.gov/sites/default/files/dc/sites/dhcd/publication/attachments/2023%20Qualified%20Allocation%20Plan%2007282023_1.pdf', 'page': 38, 'source': 'https://dhcd.dc.gov/sites/default/files/dc/sites/dhcd/publication/attachments/2023%20Qualified%20Allocation%20Plan%2007282023_1.pdf', 'total_pages': 59}, 'page_content': '•\\nBuilding electrification with no on-site combustion\\n•\\nCompletion of the DOEE Resilience and Solar Assessment Tool\\n(https://doee.dc.gov/sites/default/files/dc/sites/ddoe/service_content/attac\\nhments/DC%20DOEE%20Resilience%20Tool%20Manual-8.28.19.pdf)\\n•\\nEnterprise Green Communities Criterion 6.5 Environmentally Responsible\\nMaterial Selection for Concrete, Steel, and Insulation\\nSpecifically, the EGC Criterion 6.5 requires submitting a publicly disclosed Environmental\\nProduct Declaration (EPD) for 90% by volume for all (concrete/steel/insulation) used in the\\nProject. Clearly indicate the total Global Warming Potential (GWP). Only new products\\nshould be counted; existing/reused/salvaged products are exempt.\\nAny Project claiming points in this category must demonstrate the capacity and experience to\\nachieve certification, and to incorporate the innovative features specified. The architectural\\nplans and Project budgets (development and operating) submitted in the application must\\nreflect the commitment to certification and the features described. Such features may include\\nsub-metering of water, as described further in PAMD’s Utility Allowance Guidelines, available\\nhere: https://dhcd.dc.gov/service/project-monitoring.\\nResident Services\\nPoints will be awarded to Projects proposing high-quality, comprehensive property-wide resident\\nservices. Such services are in addition to the PSH case management services that serve a limited\\nresident population with more intensive needs. Points will be awarded to applications with a\\nresident services plan where the core resident services are expected to be funded and sustained\\nwith sources of funding outside the Project (e.g., fundraising or supported through a portion of\\ndeveloper fee set aside and reserved for this purpose or a combination of developer fee and\\norganizational fundraising). Projects will be awarded points if they demonstrate outside funding is'}, vector=None, shard_key=None), ScoredPoint(id='c5671105-eacf-49e6-a5dc-6741fd66b7d2', version=5, score=0.8257539, payload={'metadata': {'Author': 'DFD 5/29/2019', 'Company': '', 'ContentTypeId': '0x010100C74D2375FCAC004496D58CD71322480C', 'CreationDate': \"D:20230728162703-04'00'\", 'Creator': 'Acrobat PDFMaker 23 for Word', 'Keywords': '', 'ModDate': \"D:20230801150450-04'00'\", 'Producer': 'Adobe PDF Library 23.3.20', 'SourceModified': '', 'Subject': '', 'Title': '', 'file_path': 'https://dhcd.dc.gov/sites/default/files/dc/sites/dhcd/publication/attachments/2023%20Qualified%20Allocation%20Plan%2007282023_1.pdf', 'page': 29, 'source': 'https://dhcd.dc.gov/sites/default/files/dc/sites/dhcd/publication/attachments/2023%20Qualified%20Allocation%20Plan%2007282023_1.pdf', 'total_pages': 59}, 'page_content': 'LEED checklist must be submitted, demonstrating compliance with all prerequisites and sufficient\\npoints to achieve LEED Silver or above. Please note that submission of evidence of an integrated\\ndesign charrette is not mandatory for LEED Projects but is strongly encouraged. If selected for\\nfinancing, as a condition precedent to loan closing, Project teams must be registered with LEED\\nOnline and add the DC Government account (green.building@dc.gov) to the LEED Online\\nProject team. Once construction is complete, Projects must demonstrate that they have achieved\\nthe appropriate certification.\\nSolar Requirements\\nAll Projects must install solar panels or submit a waiver for this requirement if solar panels cannot\\nbe installed on the building. Projects should include specifications for the system in the\\nschematic plans and related funding sources should be evident in the Form 202 Consolidated\\nRFP as a Permanent Source, as Non-Residential Income, and/or as additional cash flow in the\\n20-year proforma that enable a larger deferred developer fee. The Inflation Reduction Act\\nallows Projects to claim both the Solar ITC, LIHTC, DC LIHTC, and other related tax credits on\\nthe solar expenses incurred by the Project. DHCD expects that the funding benefits of the solar,\\nincluding but not limited to the Solar ITC and SRECs, will be included as a source for the Project.\\nRelocation and Anti-Displacement Strategy\\nFor existing and occupied buildings/properties that result in the temporary or permanent\\ndisplacement of current occupants, including commercial tenants, the applicant must submit a\\nRelocation and Anti- Displacement Strategy. This strategy (due with the application) provides\\nthe groundwork for the Relocation and Anti-Displacement Plan (due before the issuance of a\\nLetter of Commitment for financing). All Projects financed with LIHTCs in the District of\\nColumbia will be held to the standards of the Uniform Relocation Act and the District’s Rental\\nHousing Act.'}, vector=None, shard_key=None), ScoredPoint(id='65e3c246-43bb-4a6c-9e4e-cf5eb04fd93d', version=0, score=0.8257539, payload={'metadata': {'Author': 'DFD 5/29/2019', 'Company': '', 'ContentTypeId': '0x010100C74D2375FCAC004496D58CD71322480C', 'CreationDate': \"D:20230728162703-04'00'\", 'Creator': 'Acrobat PDFMaker 23 for Word', 'Keywords': '', 'ModDate': \"D:20230801150450-04'00'\", 'Producer': 'Adobe PDF Library 23.3.20', 'SourceModified': '', 'Subject': '', 'Title': '', 'file_path': 'https://dhcd.dc.gov/sites/default/files/dc/sites/dhcd/publication/attachments/2023%20Qualified%20Allocation%20Plan%2007282023_1.pdf', 'page': 29, 'source': 'https://dhcd.dc.gov/sites/default/files/dc/sites/dhcd/publication/attachments/2023%20Qualified%20Allocation%20Plan%2007282023_1.pdf', 'total_pages': 59}, 'page_content': 'LEED checklist must be submitted, demonstrating compliance with all prerequisites and sufficient\\npoints to achieve LEED Silver or above. Please note that submission of evidence of an integrated\\ndesign charrette is not mandatory for LEED Projects but is strongly encouraged. If selected for\\nfinancing, as a condition precedent to loan closing, Project teams must be registered with LEED\\nOnline and add the DC Government account (green.building@dc.gov) to the LEED Online\\nProject team. Once construction is complete, Projects must demonstrate that they have achieved\\nthe appropriate certification.\\nSolar Requirements\\nAll Projects must install solar panels or submit a waiver for this requirement if solar panels cannot\\nbe installed on the building. Projects should include specifications for the system in the\\nschematic plans and related funding sources should be evident in the Form 202 Consolidated\\nRFP as a Permanent Source, as Non-Residential Income, and/or as additional cash flow in the\\n20-year proforma that enable a larger deferred developer fee. The Inflation Reduction Act\\nallows Projects to claim both the Solar ITC, LIHTC, DC LIHTC, and other related tax credits on\\nthe solar expenses incurred by the Project. DHCD expects that the funding benefits of the solar,\\nincluding but not limited to the Solar ITC and SRECs, will be included as a source for the Project.\\nRelocation and Anti-Displacement Strategy\\nFor existing and occupied buildings/properties that result in the temporary or permanent\\ndisplacement of current occupants, including commercial tenants, the applicant must submit a\\nRelocation and Anti- Displacement Strategy. This strategy (due with the application) provides\\nthe groundwork for the Relocation and Anti-Displacement Plan (due before the issuance of a\\nLetter of Commitment for financing). All Projects financed with LIHTCs in the District of\\nColumbia will be held to the standards of the Uniform Relocation Act and the District’s Rental\\nHousing Act.'}, vector=None, shard_key=None), ScoredPoint(id='e0f40840-63b5-49dd-b763-a6b5c17255af', version=7, score=0.8249166, payload={'metadata': {'Author': 'Chris Dickersin-Prokopp', 'Category': 'Request for Proposals', 'Company': 'DHCD', 'ContentTypeId': '0x010100C74D2375FCAC004496D58CD71322480C', 'CreationDate': \"D:20230728170152-04'00'\", 'Creator': 'Acrobat PDFMaker 23 for Word', 'Keywords': '\"Affordable Housing; Permanent Supportive Housing; Request for Proposals; DHCD\"', 'ModDate': \"D:20230815162708-04'00'\", 'Producer': 'Adobe PDF Library 23.3.20', 'SourceModified': '', 'Subject': 'Affordable Housing', 'Title': '2023 Consolidated Request for Proposals for Affordable Housing Projects', 'file_path': 'https://dhcd.dc.gov/sites/default/files/dc/sites/dhcd/publication/attachments/2023%20Affordable%20Housing%20RFP%2007282023_3.pdf', 'page': 34, 'source': 'https://dhcd.dc.gov/sites/default/files/dc/sites/dhcd/publication/attachments/2023%20Affordable%20Housing%20RFP%2007282023_3.pdf', 'total_pages': 92}, 'page_content': 'Form 202 Consolidated RFP as a Permanent Source, as Non-Residential Income,\\nand/or as additional cash flow in the 20-year proforma that enable a larger deferred\\ndeveloper fee. The Inflation Reduction Act allows Projects to claim both the Solar\\nInvestment Tax Credit (Solar ITC), LIHTC, DC LIHTC, and other related tax credits on\\nthe solar expenses incurred by the Project. DHCD expects that the funding benefits of\\nthe solar, including but not limited to the Solar ITC and Solar Renewable Energy\\nCertificates (SRECs), will be included as a source for the Project. Projects utilizing a\\nPower Purchase Agreement (PPA) or other indirect development arrangement for\\nsolar will need to request a waiver .\\n16.Relocation and Anti-Displacement Strategy\\nFor existing and occupied buildings/properties that result in the temporary or\\npermanent displacement of current occupants, including commercial tenants, the\\napplicant must submit a Relocation and Anti-Displacement Strategy. This strategy\\n(due with the application) provides the groundwork for the Relocation and Anti-\\nDisplacement Plan (due before the issuance of a Letter of Commitment for financing).\\nAll projects financed through this RFP will be held to the standards of the Uniform\\nRelocation Act and the District’s Rental Housing Act.\\nInstances where a strategy and plan are required include the following, regardless of\\nfunding source:\\n•\\nTenants will be required to move to facilitate the building’s rehabilitation, even\\nif they are moved to other units within the same building or complex;\\n•\\nDemolition of existing dwelling or commercial units or buildings that are\\noccupied at the time of acquisition or at the time the applicant executes a\\nlegal instrument that demonstrates site control; or\\n•\\nTenants will be displaced because the proposed rents are not affordable to\\nthose households.\\n17.Resident Services Plan\\nA submission of a Resident Services Plan is a new threshold requirement for 2023. All'}, vector=None, shard_key=None), ScoredPoint(id='194b52a3-2948-4b73-b5df-cadc54699c4b', version=2, score=0.8249166, payload={'metadata': {'Author': 'Chris Dickersin-Prokopp', 'Category': 'Request for Proposals', 'Company': 'DHCD', 'ContentTypeId': '0x010100C74D2375FCAC004496D58CD71322480C', 'CreationDate': \"D:20230728170152-04'00'\", 'Creator': 'Acrobat PDFMaker 23 for Word', 'Keywords': '\"Affordable Housing; Permanent Supportive Housing; Request for Proposals; DHCD\"', 'ModDate': \"D:20230815162708-04'00'\", 'Producer': 'Adobe PDF Library 23.3.20', 'SourceModified': '', 'Subject': 'Affordable Housing', 'Title': '2023 Consolidated Request for Proposals for Affordable Housing Projects', 'file_path': 'https://dhcd.dc.gov/sites/default/files/dc/sites/dhcd/publication/attachments/2023%20Affordable%20Housing%20RFP%2007282023_3.pdf', 'page': 34, 'source': 'https://dhcd.dc.gov/sites/default/files/dc/sites/dhcd/publication/attachments/2023%20Affordable%20Housing%20RFP%2007282023_3.pdf', 'total_pages': 92}, 'page_content': 'Form 202 Consolidated RFP as a Permanent Source, as Non-Residential Income,\\nand/or as additional cash flow in the 20-year proforma that enable a larger deferred\\ndeveloper fee. The Inflation Reduction Act allows Projects to claim both the Solar\\nInvestment Tax Credit (Solar ITC), LIHTC, DC LIHTC, and other related tax credits on\\nthe solar expenses incurred by the Project. DHCD expects that the funding benefits of\\nthe solar, including but not limited to the Solar ITC and Solar Renewable Energy\\nCertificates (SRECs), will be included as a source for the Project. Projects utilizing a\\nPower Purchase Agreement (PPA) or other indirect development arrangement for\\nsolar will need to request a waiver .\\n16.Relocation and Anti-Displacement Strategy\\nFor existing and occupied buildings/properties that result in the temporary or\\npermanent displacement of current occupants, including commercial tenants, the\\napplicant must submit a Relocation and Anti-Displacement Strategy. This strategy\\n(due with the application) provides the groundwork for the Relocation and Anti-\\nDisplacement Plan (due before the issuance of a Letter of Commitment for financing).\\nAll projects financed through this RFP will be held to the standards of the Uniform\\nRelocation Act and the District’s Rental Housing Act.\\nInstances where a strategy and plan are required include the following, regardless of\\nfunding source:\\n•\\nTenants will be required to move to facilitate the building’s rehabilitation, even\\nif they are moved to other units within the same building or complex;\\n•\\nDemolition of existing dwelling or commercial units or buildings that are\\noccupied at the time of acquisition or at the time the applicant executes a\\nlegal instrument that demonstrates site control; or\\n•\\nTenants will be displaced because the proposed rents are not affordable to\\nthose households.\\n17.Resident Services Plan\\nA submission of a Resident Services Plan is a new threshold requirement for 2023. All'}, vector=None, shard_key=None), ScoredPoint(id='d03766fb-c586-4b90-847f-848cc0052ecf', version=2, score=0.8224497, payload={'metadata': {'Author': 'Chris Dickersin-Prokopp', 'Category': 'Request for Proposals', 'Company': 'DHCD', 'ContentTypeId': '0x010100C74D2375FCAC004496D58CD71322480C', 'CreationDate': \"D:20230728170152-04'00'\", 'Creator': 'Acrobat PDFMaker 23 for Word', 'Keywords': '\"Affordable Housing; Permanent Supportive Housing; Request for Proposals; DHCD\"', 'ModDate': \"D:20230815162708-04'00'\", 'Producer': 'Adobe PDF Library 23.3.20', 'SourceModified': '', 'Subject': 'Affordable Housing', 'Title': '2023 Consolidated Request for Proposals for Affordable Housing Projects', 'file_path': 'https://dhcd.dc.gov/sites/default/files/dc/sites/dhcd/publication/attachments/2023%20Affordable%20Housing%20RFP%2007282023_3.pdf', 'page': 14, 'source': 'https://dhcd.dc.gov/sites/default/files/dc/sites/dhcd/publication/attachments/2023%20Affordable%20Housing%20RFP%2007282023_3.pdf', 'total_pages': 92}, 'page_content': '•\\nDC Green Bank: Provides reduced-interest construction and permanent\\nloans for clean energy, energy and resource efficiency, and resilience\\nimprovements for either new construction or preservation projects.\\n•\\nHUD’s Green and Resilient Retrofit Program (GRRP): Up to $4.8 billion is\\navailable from HUD to fund energy efficiency and resilience measures in\\naffordable housing projects assisted under the Section 8 Project-Based\\nRental Assistance (PBRA) program, including properties that converted\\nunder the RAD Program prior to September 30, 2021; the Section 202\\nHousing for the Elderly program; the Section 811 Housing for Persons with\\nDisabilities program; or the Section 236 program.\\nThe first Notice of Funding Opportunity (NOFO) for the Elements path or\\ncohort for projects that are materially advanced in a recapitalization\\ntransaction is now closed – though DHCD expects projects in the Leading\\nEdge or Comprehensive cohorts to be most applicable to this RFP. Due to\\nthe timing of the release of this RFP and the GRRP award schedule,\\nDHCD will allow projects to submit scenarios with GRRP without having\\nreceived the award from HUD. Any award of HPTF would be subject to\\nthe 49% limitation and any resource available through this RFP would be\\ncontingent upon the receipt of the GRRP award.\\n•\\nAffordable Housing Retrofit Accelerator: DOEE is delivering supplementary\\ntechnical assistance through its new Affordable Housing Retrofit Accelerator\\nthrough the DC Sustainable Energy Utility (DCSEU) to help buildings subject\\nto DC Building Energy Performance Standards (BEPS) navigate and meet the\\nprogram’s compliance requirements. The Accelerator streamlines compliance\\nrequirements and brings financial and technical support to building owners\\nthrough the BEPS Online Portal. Buildings subject to BEPS can access Retrofit\\nAccelerator support by registering on the BEPS Portal. More details are\\navailable here. Any additional questions regarding BEPS compliance and'}, vector=None, shard_key=None), ScoredPoint(id='63ad4256-db78-4c82-91db-639b6e653c02', version=7, score=0.82195944, payload={'metadata': {'Author': 'Chris Dickersin-Prokopp', 'Category': 'Request for Proposals', 'Company': 'DHCD', 'ContentTypeId': '0x010100C74D2375FCAC004496D58CD71322480C', 'CreationDate': \"D:20230728170152-04'00'\", 'Creator': 'Acrobat PDFMaker 23 for Word', 'Keywords': '\"Affordable Housing; Permanent Supportive Housing; Request for Proposals; DHCD\"', 'ModDate': \"D:20230815162708-04'00'\", 'Producer': 'Adobe PDF Library 23.3.20', 'SourceModified': '', 'Subject': 'Affordable Housing', 'Title': '2023 Consolidated Request for Proposals for Affordable Housing Projects', 'file_path': 'https://dhcd.dc.gov/sites/default/files/dc/sites/dhcd/publication/attachments/2023%20Affordable%20Housing%20RFP%2007282023_3.pdf', 'page': 14, 'source': 'https://dhcd.dc.gov/sites/default/files/dc/sites/dhcd/publication/attachments/2023%20Affordable%20Housing%20RFP%2007282023_3.pdf', 'total_pages': 92}, 'page_content': '•\\nDC Green Bank: Provides reduced-interest construction and permanent\\nloans for clean energy, energy and resource efficiency, and resilience\\nimprovements for either new construction or preservation projects.\\n•\\nHUD’s Green and Resilient Retrofit Program (GRRP): Up to $4.8 billion is\\navailable from HUD to fund energy efficiency and resilience measures in\\naffordable housing projects assisted under the Section 8 Project-Based\\nRental Assistance (PBRA) program, including properties that converted\\nunder the RAD Program prior to September 30, 2021; the Section 202\\nHousing for the Elderly program; the Section 811 Housing for Persons with\\nDisabilities program; or the Section 236 program.\\nThe first Notice of Funding Opportunity (NOFO) for the Elements path or\\ncohort for projects that are materially advanced in a recapitalization\\ntransaction is now closed – though DHCD expects projects in the Leading\\nEdge or Comprehensive cohorts to be most applicable to this RFP. Due to\\nthe timing of the release of this RFP and the GRRP award schedule,\\nDHCD will allow projects to submit scenarios with GRRP without having\\nreceived the award from HUD. Any award of HPTF would be subject to\\nthe 49% limitation and any resource available through this RFP would be\\ncontingent upon the receipt of the GRRP award.\\n•\\nAffordable Housing Retrofit Accelerator: DOEE is delivering supplementary\\ntechnical assistance through its new Affordable Housing Retrofit Accelerator\\nthrough the DC Sustainable Energy Utility (DCSEU) to help buildings subject\\nto DC Building Energy Performance Standards (BEPS) navigate and meet the\\nprogram’s compliance requirements. The Accelerator streamlines compliance\\nrequirements and brings financial and technical support to building owners\\nthrough the BEPS Online Portal. Buildings subject to BEPS can access Retrofit\\nAccelerator support by registering on the BEPS Portal. More details are\\navailable here. Any additional questions regarding BEPS compliance and'}, vector=None, shard_key=None), ScoredPoint(id='f29a7ad1-7f6d-45fe-ab4c-36399cd41ab8', version=2, score=0.8210229, payload={'metadata': {'Author': 'Chris Dickersin-Prokopp', 'Category': 'Request for Proposals', 'Company': 'DHCD', 'ContentTypeId': '0x010100C74D2375FCAC004496D58CD71322480C', 'CreationDate': \"D:20230728170152-04'00'\", 'Creator': 'Acrobat PDFMaker 23 for Word', 'Keywords': '\"Affordable Housing; Permanent Supportive Housing; Request for Proposals; DHCD\"', 'ModDate': \"D:20230815162708-04'00'\", 'Producer': 'Adobe PDF Library 23.3.20', 'SourceModified': '', 'Subject': 'Affordable Housing', 'Title': '2023 Consolidated Request for Proposals for Affordable Housing Projects', 'file_path': 'https://dhcd.dc.gov/sites/default/files/dc/sites/dhcd/publication/attachments/2023%20Affordable%20Housing%20RFP%2007282023_3.pdf', 'page': 38, 'source': 'https://dhcd.dc.gov/sites/default/files/dc/sites/dhcd/publication/attachments/2023%20Affordable%20Housing%20RFP%2007282023_3.pdf', 'total_pages': 92}, 'page_content': 'underwriting if the project is selected.\\nMaximum Construction Costs Per Square Foot\\nSubstantial\\nType of Building New Construction\\nRehabilitation\\nLess than Five (5) Stories $385 $323\\nEqual to or Greater than Five (5) Stories – Wood\\nFrame (including concrete podium) or Light $407 $341\\nGauge Steel Construction\\nEqual to or Greater than Five (5) Stories –\\n$448 $372\\nConcrete Construction\\n2023 DHCD Consolidated Request for Proposals 39'}, vector=None, shard_key=None)]\n",
            "\u001b[00m\n",
            "\u001b[32;1m\u001b[1;3mFinal Answer: \n",
            "\n",
            "1. Performance Standards (BEPS) throughout the initial LIHTC compliance period, Projects that are selected for funding as a District financed or District instrumentality financed project after December 31, 2023, with at least 10,000 square feet of Gross Floor Area must maintain net zero energy compliance through the Greener Government Buildings Act Amendment to the Green Building Act.\n",
            "\n",
            "2. New construction Projects must be certified by Enterprise Community Partners using the 2020 Enterprise Green Communities (EGC) Criteria.\n",
            "\n",
            "3. Projects pursuing LEED certification (LEED for Homes, LEED for Homes Multifamily Midrise, LEED Zero Energy) must be certified by the US Green Building Council.\n",
            "\n",
            "4. All Projects must install solar panels or submit a waiver if solar panels cannot be installed on the building.\n",
            "\n",
            "5. Building electrification with no on-site combustion is required.\n",
            "\n",
            "6. Completion of the DOEE Resilience and Solar Assessment Tool.\n",
            "\n",
            "7. Resident Services Plan is a new threshold requirement for 2023.\n",
            "\n",
            "8. DC Green Bank provides reduced-interest construction and permanent loans for clean energy, energy, and resource efficiency, and resilience improvements.\n",
            "\n",
            "9. HUD’s Green and Resilient Retrofit Program (GRRP) provides funding for energy efficiency and resilience measures in affordable housing projects.\n",
            "\n",
            "10. Affordable Housing Retrofit Accelerator provides technical assistance for buildings subject to DC Building Energy Performance Standards.\n",
            "\n",
            "11. Maximum Construction Costs Per Square Foot are detailed based on the type of building and construction method.\u001b[0m\n",
            "\n",
            "\u001b[1m> Finished chain.\u001b[0m\n",
            "\n",
            "\n",
            "\u001b[1m> Entering new CrewAgentExecutor chain...\u001b[0m\n",
            "\u001b[32;1m\u001b[1;3mI need to gather information on the application processes and timelines for each financing option by extracting relevant policy documents.\n",
            "\n",
            "Action: PolicyExtractionTool\n",
            "Action Input: {\"project_overview\": \"comprehensive, deep energy retrofit of Marbury Plaza including a 500kW solar project on the roof\", \"property_details\": \"2330 Good Hope Rd., S.E., Washington, D.C.\"}\u001b[0m\u001b[95m \n",
            "\n",
            "[ScoredPoint(id='5534f368-d779-4975-8b3b-426a35d1f312', version=2, score=0.8202549, payload={'metadata': {'Author': 'Chris Dickersin-Prokopp', 'Category': 'Request for Proposals', 'Company': 'DHCD', 'ContentTypeId': '0x010100C74D2375FCAC004496D58CD71322480C', 'CreationDate': \"D:20230728170152-04'00'\", 'Creator': 'Acrobat PDFMaker 23 for Word', 'Keywords': '\"Affordable Housing; Permanent Supportive Housing; Request for Proposals; DHCD\"', 'ModDate': \"D:20230815162708-04'00'\", 'Producer': 'Adobe PDF Library 23.3.20', 'SourceModified': '', 'Subject': 'Affordable Housing', 'Title': '2023 Consolidated Request for Proposals for Affordable Housing Projects', 'file_path': 'https://dhcd.dc.gov/sites/default/files/dc/sites/dhcd/publication/attachments/2023%20Affordable%20Housing%20RFP%2007282023_3.pdf', 'page': 33, 'source': 'https://dhcd.dc.gov/sites/default/files/dc/sites/dhcd/publication/attachments/2023%20Affordable%20Housing%20RFP%2007282023_3.pdf', 'total_pages': 92}, 'page_content': 'pursuing EGC Plus with ZERH, the Project should utilize the Enterprise 5.2b temporary\\nZERH pathway (dated March 14, 2022)\\nProjects pursuing LEED certification (LEED for Homes, LEED for Homes Multifamily\\nMidrise, LEED Zero Energy) must be certified by the US Green Building Council. At the\\ntime of submission, upon consultation with your team’s design professionals, the\\nappropriate completed LEED checklist must be submitted, demonstrating compliance\\nwith all prerequisites and sufficient points to achieve LEED Silver or above. Please\\nnote that submission of evidence of an integrated design charrette is not mandatory\\nfor LEED Projects but is strongly encouraged. If selected for financing, as a condition\\nprecedent to loan closing, Project teams must be registered with LEED Online and add\\nthe DC Government account (green.building@dc.gov) to the LEED Online Project\\nteam. Once construction is complete, Projects must demonstrate that they have\\nachieved the appropriate certification.\\nSolar Requirements\\nAll Projects must install solar panels or submit a waiver for this requirement if solar\\npanels cannot be installed on the building. Projects should include specifications for\\nthe system in the schematic plans and related funding sources should be evident in the\\n2023 DHCD Consolidated Request for Proposals 34'}, vector=None, shard_key=None), ScoredPoint(id='e609650f-64e8-423d-afc9-03c4d4dc9294', version=7, score=0.8202549, payload={'metadata': {'Author': 'Chris Dickersin-Prokopp', 'Category': 'Request for Proposals', 'Company': 'DHCD', 'ContentTypeId': '0x010100C74D2375FCAC004496D58CD71322480C', 'CreationDate': \"D:20230728170152-04'00'\", 'Creator': 'Acrobat PDFMaker 23 for Word', 'Keywords': '\"Affordable Housing; Permanent Supportive Housing; Request for Proposals; DHCD\"', 'ModDate': \"D:20230815162708-04'00'\", 'Producer': 'Adobe PDF Library 23.3.20', 'SourceModified': '', 'Subject': 'Affordable Housing', 'Title': '2023 Consolidated Request for Proposals for Affordable Housing Projects', 'file_path': 'https://dhcd.dc.gov/sites/default/files/dc/sites/dhcd/publication/attachments/2023%20Affordable%20Housing%20RFP%2007282023_3.pdf', 'page': 33, 'source': 'https://dhcd.dc.gov/sites/default/files/dc/sites/dhcd/publication/attachments/2023%20Affordable%20Housing%20RFP%2007282023_3.pdf', 'total_pages': 92}, 'page_content': 'pursuing EGC Plus with ZERH, the Project should utilize the Enterprise 5.2b temporary\\nZERH pathway (dated March 14, 2022)\\nProjects pursuing LEED certification (LEED for Homes, LEED for Homes Multifamily\\nMidrise, LEED Zero Energy) must be certified by the US Green Building Council. At the\\ntime of submission, upon consultation with your team’s design professionals, the\\nappropriate completed LEED checklist must be submitted, demonstrating compliance\\nwith all prerequisites and sufficient points to achieve LEED Silver or above. Please\\nnote that submission of evidence of an integrated design charrette is not mandatory\\nfor LEED Projects but is strongly encouraged. If selected for financing, as a condition\\nprecedent to loan closing, Project teams must be registered with LEED Online and add\\nthe DC Government account (green.building@dc.gov) to the LEED Online Project\\nteam. Once construction is complete, Projects must demonstrate that they have\\nachieved the appropriate certification.\\nSolar Requirements\\nAll Projects must install solar panels or submit a waiver for this requirement if solar\\npanels cannot be installed on the building. Projects should include specifications for\\nthe system in the schematic plans and related funding sources should be evident in the\\n2023 DHCD Consolidated Request for Proposals 34'}, vector=None, shard_key=None), ScoredPoint(id='0865cf63-6dff-4e8b-aebb-257302c45b29', version=0, score=0.8153514, payload={'metadata': {'Author': 'DFD 5/29/2019', 'Company': '', 'ContentTypeId': '0x010100C74D2375FCAC004496D58CD71322480C', 'CreationDate': \"D:20230728162703-04'00'\", 'Creator': 'Acrobat PDFMaker 23 for Word', 'Keywords': '', 'ModDate': \"D:20230801150450-04'00'\", 'Producer': 'Adobe PDF Library 23.3.20', 'SourceModified': '', 'Subject': '', 'Title': '', 'file_path': 'https://dhcd.dc.gov/sites/default/files/dc/sites/dhcd/publication/attachments/2023%20Qualified%20Allocation%20Plan%2007282023_1.pdf', 'page': 27, 'source': 'https://dhcd.dc.gov/sites/default/files/dc/sites/dhcd/publication/attachments/2023%20Qualified%20Allocation%20Plan%2007282023_1.pdf', 'total_pages': 59}, 'page_content': 'Performance Standards (BEPS) throughout the initial LIHTC compliance period, Projects that are\\nselected for funding as a District financed or District instrumentality financed project after December\\n31, 2023 with at least 10,000 square feet of Gross Floor Area must maintain net zero energy\\n3 4\\ncompliance through the Greener Government Buildings Act Amendment to the Green Building Act.\\nThe requirements as of the effective date of this QAP based on the type and size of Project are\\nfurther detailed below. DHCD will issue updated guidance or amendments to this QAP as warranted.\\nProjects with building(s) of at least 50,000 square feet of Gross Floor Area:\\n•\\nNew construction Projects must be certified by Enterprise Community\\nPartners using the 2020 Enterprise Green Communities (EGC) Criteria, at the\\n3 D.C. Law 24-306\\n4 See also Green Housing Transition Emergency Declaration Resolution, effective June 20, 2023 (Res. 25-182; 70\\nDCR 009097) and the Green Housing Transition Temporary Amendment Act of 2023, passed on 1st reading on\\nJune 20, 2023 (Engrossed version of Bill 25-0327)\\nD HCD 2023 Qualified Allocation Plan, Page 28 of 59'}, vector=None, shard_key=None), ScoredPoint(id='b91bc583-56eb-4803-9f25-298e3f1d3a58', version=5, score=0.8153514, payload={'metadata': {'Author': 'DFD 5/29/2019', 'Company': '', 'ContentTypeId': '0x010100C74D2375FCAC004496D58CD71322480C', 'CreationDate': \"D:20230728162703-04'00'\", 'Creator': 'Acrobat PDFMaker 23 for Word', 'Keywords': '', 'ModDate': \"D:20230801150450-04'00'\", 'Producer': 'Adobe PDF Library 23.3.20', 'SourceModified': '', 'Subject': '', 'Title': '', 'file_path': 'https://dhcd.dc.gov/sites/default/files/dc/sites/dhcd/publication/attachments/2023%20Qualified%20Allocation%20Plan%2007282023_1.pdf', 'page': 27, 'source': 'https://dhcd.dc.gov/sites/default/files/dc/sites/dhcd/publication/attachments/2023%20Qualified%20Allocation%20Plan%2007282023_1.pdf', 'total_pages': 59}, 'page_content': 'Performance Standards (BEPS) throughout the initial LIHTC compliance period, Projects that are\\nselected for funding as a District financed or District instrumentality financed project after December\\n31, 2023 with at least 10,000 square feet of Gross Floor Area must maintain net zero energy\\n3 4\\ncompliance through the Greener Government Buildings Act Amendment to the Green Building Act.\\nThe requirements as of the effective date of this QAP based on the type and size of Project are\\nfurther detailed below. DHCD will issue updated guidance or amendments to this QAP as warranted.\\nProjects with building(s) of at least 50,000 square feet of Gross Floor Area:\\n•\\nNew construction Projects must be certified by Enterprise Community\\nPartners using the 2020 Enterprise Green Communities (EGC) Criteria, at the\\n3 D.C. Law 24-306\\n4 See also Green Housing Transition Emergency Declaration Resolution, effective June 20, 2023 (Res. 25-182; 70\\nDCR 009097) and the Green Housing Transition Temporary Amendment Act of 2023, passed on 1st reading on\\nJune 20, 2023 (Engrossed version of Bill 25-0327)\\nD HCD 2023 Qualified Allocation Plan, Page 28 of 59'}, vector=None, shard_key=None), ScoredPoint(id='4ed2e816-a49e-4c91-b334-63a9cfcf0473', version=6, score=0.80462646, payload={'metadata': {'Author': 'DFD 5/29/2019', 'Company': '', 'ContentTypeId': '0x010100C74D2375FCAC004496D58CD71322480C', 'CreationDate': \"D:20230728162703-04'00'\", 'Creator': 'Acrobat PDFMaker 23 for Word', 'Keywords': '', 'ModDate': \"D:20230801150450-04'00'\", 'Producer': 'Adobe PDF Library 23.3.20', 'SourceModified': '', 'Subject': '', 'Title': '', 'file_path': 'https://dhcd.dc.gov/sites/default/files/dc/sites/dhcd/publication/attachments/2023%20Qualified%20Allocation%20Plan%2007282023_1.pdf', 'page': 38, 'source': 'https://dhcd.dc.gov/sites/default/files/dc/sites/dhcd/publication/attachments/2023%20Qualified%20Allocation%20Plan%2007282023_1.pdf', 'total_pages': 59}, 'page_content': '•\\nBuilding electrification with no on-site combustion\\n•\\nCompletion of the DOEE Resilience and Solar Assessment Tool\\n(https://doee.dc.gov/sites/default/files/dc/sites/ddoe/service_content/attac\\nhments/DC%20DOEE%20Resilience%20Tool%20Manual-8.28.19.pdf)\\n•\\nEnterprise Green Communities Criterion 6.5 Environmentally Responsible\\nMaterial Selection for Concrete, Steel, and Insulation\\nSpecifically, the EGC Criterion 6.5 requires submitting a publicly disclosed Environmental\\nProduct Declaration (EPD) for 90% by volume for all (concrete/steel/insulation) used in the\\nProject. Clearly indicate the total Global Warming Potential (GWP). Only new products\\nshould be counted; existing/reused/salvaged products are exempt.\\nAny Project claiming points in this category must demonstrate the capacity and experience to\\nachieve certification, and to incorporate the innovative features specified. The architectural\\nplans and Project budgets (development and operating) submitted in the application must\\nreflect the commitment to certification and the features described. Such features may include\\nsub-metering of water, as described further in PAMD’s Utility Allowance Guidelines, available\\nhere: https://dhcd.dc.gov/service/project-monitoring.\\nResident Services\\nPoints will be awarded to Projects proposing high-quality, comprehensive property-wide resident\\nservices. Such services are in addition to the PSH case management services that serve a limited\\nresident population with more intensive needs. Points will be awarded to applications with a\\nresident services plan where the core resident services are expected to be funded and sustained\\nwith sources of funding outside the Project (e.g., fundraising or supported through a portion of\\ndeveloper fee set aside and reserved for this purpose or a combination of developer fee and\\norganizational fundraising). Projects will be awarded points if they demonstrate outside funding is'}, vector=None, shard_key=None), ScoredPoint(id='e0f40840-63b5-49dd-b763-a6b5c17255af', version=7, score=0.8046236, payload={'metadata': {'Author': 'Chris Dickersin-Prokopp', 'Category': 'Request for Proposals', 'Company': 'DHCD', 'ContentTypeId': '0x010100C74D2375FCAC004496D58CD71322480C', 'CreationDate': \"D:20230728170152-04'00'\", 'Creator': 'Acrobat PDFMaker 23 for Word', 'Keywords': '\"Affordable Housing; Permanent Supportive Housing; Request for Proposals; DHCD\"', 'ModDate': \"D:20230815162708-04'00'\", 'Producer': 'Adobe PDF Library 23.3.20', 'SourceModified': '', 'Subject': 'Affordable Housing', 'Title': '2023 Consolidated Request for Proposals for Affordable Housing Projects', 'file_path': 'https://dhcd.dc.gov/sites/default/files/dc/sites/dhcd/publication/attachments/2023%20Affordable%20Housing%20RFP%2007282023_3.pdf', 'page': 34, 'source': 'https://dhcd.dc.gov/sites/default/files/dc/sites/dhcd/publication/attachments/2023%20Affordable%20Housing%20RFP%2007282023_3.pdf', 'total_pages': 92}, 'page_content': 'Form 202 Consolidated RFP as a Permanent Source, as Non-Residential Income,\\nand/or as additional cash flow in the 20-year proforma that enable a larger deferred\\ndeveloper fee. The Inflation Reduction Act allows Projects to claim both the Solar\\nInvestment Tax Credit (Solar ITC), LIHTC, DC LIHTC, and other related tax credits on\\nthe solar expenses incurred by the Project. DHCD expects that the funding benefits of\\nthe solar, including but not limited to the Solar ITC and Solar Renewable Energy\\nCertificates (SRECs), will be included as a source for the Project. Projects utilizing a\\nPower Purchase Agreement (PPA) or other indirect development arrangement for\\nsolar will need to request a waiver .\\n16.Relocation and Anti-Displacement Strategy\\nFor existing and occupied buildings/properties that result in the temporary or\\npermanent displacement of current occupants, including commercial tenants, the\\napplicant must submit a Relocation and Anti-Displacement Strategy. This strategy\\n(due with the application) provides the groundwork for the Relocation and Anti-\\nDisplacement Plan (due before the issuance of a Letter of Commitment for financing).\\nAll projects financed through this RFP will be held to the standards of the Uniform\\nRelocation Act and the District’s Rental Housing Act.\\nInstances where a strategy and plan are required include the following, regardless of\\nfunding source:\\n•\\nTenants will be required to move to facilitate the building’s rehabilitation, even\\nif they are moved to other units within the same building or complex;\\n•\\nDemolition of existing dwelling or commercial units or buildings that are\\noccupied at the time of acquisition or at the time the applicant executes a\\nlegal instrument that demonstrates site control; or\\n•\\nTenants will be displaced because the proposed rents are not affordable to\\nthose households.\\n17.Resident Services Plan\\nA submission of a Resident Services Plan is a new threshold requirement for 2023. All'}, vector=None, shard_key=None), ScoredPoint(id='194b52a3-2948-4b73-b5df-cadc54699c4b', version=2, score=0.8046236, payload={'metadata': {'Author': 'Chris Dickersin-Prokopp', 'Category': 'Request for Proposals', 'Company': 'DHCD', 'ContentTypeId': '0x010100C74D2375FCAC004496D58CD71322480C', 'CreationDate': \"D:20230728170152-04'00'\", 'Creator': 'Acrobat PDFMaker 23 for Word', 'Keywords': '\"Affordable Housing; Permanent Supportive Housing; Request for Proposals; DHCD\"', 'ModDate': \"D:20230815162708-04'00'\", 'Producer': 'Adobe PDF Library 23.3.20', 'SourceModified': '', 'Subject': 'Affordable Housing', 'Title': '2023 Consolidated Request for Proposals for Affordable Housing Projects', 'file_path': 'https://dhcd.dc.gov/sites/default/files/dc/sites/dhcd/publication/attachments/2023%20Affordable%20Housing%20RFP%2007282023_3.pdf', 'page': 34, 'source': 'https://dhcd.dc.gov/sites/default/files/dc/sites/dhcd/publication/attachments/2023%20Affordable%20Housing%20RFP%2007282023_3.pdf', 'total_pages': 92}, 'page_content': 'Form 202 Consolidated RFP as a Permanent Source, as Non-Residential Income,\\nand/or as additional cash flow in the 20-year proforma that enable a larger deferred\\ndeveloper fee. The Inflation Reduction Act allows Projects to claim both the Solar\\nInvestment Tax Credit (Solar ITC), LIHTC, DC LIHTC, and other related tax credits on\\nthe solar expenses incurred by the Project. DHCD expects that the funding benefits of\\nthe solar, including but not limited to the Solar ITC and Solar Renewable Energy\\nCertificates (SRECs), will be included as a source for the Project. Projects utilizing a\\nPower Purchase Agreement (PPA) or other indirect development arrangement for\\nsolar will need to request a waiver .\\n16.Relocation and Anti-Displacement Strategy\\nFor existing and occupied buildings/properties that result in the temporary or\\npermanent displacement of current occupants, including commercial tenants, the\\napplicant must submit a Relocation and Anti-Displacement Strategy. This strategy\\n(due with the application) provides the groundwork for the Relocation and Anti-\\nDisplacement Plan (due before the issuance of a Letter of Commitment for financing).\\nAll projects financed through this RFP will be held to the standards of the Uniform\\nRelocation Act and the District’s Rental Housing Act.\\nInstances where a strategy and plan are required include the following, regardless of\\nfunding source:\\n•\\nTenants will be required to move to facilitate the building’s rehabilitation, even\\nif they are moved to other units within the same building or complex;\\n•\\nDemolition of existing dwelling or commercial units or buildings that are\\noccupied at the time of acquisition or at the time the applicant executes a\\nlegal instrument that demonstrates site control; or\\n•\\nTenants will be displaced because the proposed rents are not affordable to\\nthose households.\\n17.Resident Services Plan\\nA submission of a Resident Services Plan is a new threshold requirement for 2023. All'}, vector=None, shard_key=None), ScoredPoint(id='70eb618d-eca3-4cd1-9389-abefe47e2538', version=1, score=0.80459386, payload={'metadata': {'Author': 'DFD 5/29/2019', 'Company': '', 'ContentTypeId': '0x010100C74D2375FCAC004496D58CD71322480C', 'CreationDate': \"D:20230728162703-04'00'\", 'Creator': 'Acrobat PDFMaker 23 for Word', 'Keywords': '', 'ModDate': \"D:20230801150450-04'00'\", 'Producer': 'Adobe PDF Library 23.3.20', 'SourceModified': '', 'Subject': '', 'Title': '', 'file_path': 'https://dhcd.dc.gov/sites/default/files/dc/sites/dhcd/publication/attachments/2023%20Qualified%20Allocation%20Plan%2007282023_1.pdf', 'page': 38, 'source': 'https://dhcd.dc.gov/sites/default/files/dc/sites/dhcd/publication/attachments/2023%20Qualified%20Allocation%20Plan%2007282023_1.pdf', 'total_pages': 59}, 'page_content': '•\\nBuilding electrification with no on-site combustion\\n•\\nCompletion of the DOEE Resilience and Solar Assessment Tool\\n(https://doee.dc.gov/sites/default/files/dc/sites/ddoe/service_content/attac\\nhments/DC%20DOEE%20Resilience%20Tool%20Manual-8.28.19.pdf)\\n•\\nEnterprise Green Communities Criterion 6.5 Environmentally Responsible\\nMaterial Selection for Concrete, Steel, and Insulation\\nSpecifically, the EGC Criterion 6.5 requires submitting a publicly disclosed Environmental\\nProduct Declaration (EPD) for 90% by volume for all (concrete/steel/insulation) used in the\\nProject. Clearly indicate the total Global Warming Potential (GWP). Only new products\\nshould be counted; existing/reused/salvaged products are exempt.\\nAny Project claiming points in this category must demonstrate the capacity and experience to\\nachieve certification, and to incorporate the innovative features specified. The architectural\\nplans and Project budgets (development and operating) submitted in the application must\\nreflect the commitment to certification and the features described. Such features may include\\nsub-metering of water, as described further in PAMD’s Utility Allowance Guidelines, available\\nhere: https://dhcd.dc.gov/service/project-monitoring.\\nResident Services\\nPoints will be awarded to Projects proposing high-quality, comprehensive property-wide resident\\nservices. Such services are in addition to the PSH case management services that serve a limited\\nresident population with more intensive needs. Points will be awarded to applications with a\\nresident services plan where the core resident services are expected to be funded and sustained\\nwith sources of funding outside the Project (e.g., fundraising or supported through a portion of\\ndeveloper fee set aside and reserved for this purpose or a combination of developer fee and\\norganizational fundraising). Projects will be awarded points if they demonstrate outside funding is'}, vector=None, shard_key=None), ScoredPoint(id='65e3c246-43bb-4a6c-9e4e-cf5eb04fd93d', version=0, score=0.80441827, payload={'metadata': {'Author': 'DFD 5/29/2019', 'Company': '', 'ContentTypeId': '0x010100C74D2375FCAC004496D58CD71322480C', 'CreationDate': \"D:20230728162703-04'00'\", 'Creator': 'Acrobat PDFMaker 23 for Word', 'Keywords': '', 'ModDate': \"D:20230801150450-04'00'\", 'Producer': 'Adobe PDF Library 23.3.20', 'SourceModified': '', 'Subject': '', 'Title': '', 'file_path': 'https://dhcd.dc.gov/sites/default/files/dc/sites/dhcd/publication/attachments/2023%20Qualified%20Allocation%20Plan%2007282023_1.pdf', 'page': 29, 'source': 'https://dhcd.dc.gov/sites/default/files/dc/sites/dhcd/publication/attachments/2023%20Qualified%20Allocation%20Plan%2007282023_1.pdf', 'total_pages': 59}, 'page_content': 'LEED checklist must be submitted, demonstrating compliance with all prerequisites and sufficient\\npoints to achieve LEED Silver or above. Please note that submission of evidence of an integrated\\ndesign charrette is not mandatory for LEED Projects but is strongly encouraged. If selected for\\nfinancing, as a condition precedent to loan closing, Project teams must be registered with LEED\\nOnline and add the DC Government account (green.building@dc.gov) to the LEED Online\\nProject team. Once construction is complete, Projects must demonstrate that they have achieved\\nthe appropriate certification.\\nSolar Requirements\\nAll Projects must install solar panels or submit a waiver for this requirement if solar panels cannot\\nbe installed on the building. Projects should include specifications for the system in the\\nschematic plans and related funding sources should be evident in the Form 202 Consolidated\\nRFP as a Permanent Source, as Non-Residential Income, and/or as additional cash flow in the\\n20-year proforma that enable a larger deferred developer fee. The Inflation Reduction Act\\nallows Projects to claim both the Solar ITC, LIHTC, DC LIHTC, and other related tax credits on\\nthe solar expenses incurred by the Project. DHCD expects that the funding benefits of the solar,\\nincluding but not limited to the Solar ITC and SRECs, will be included as a source for the Project.\\nRelocation and Anti-Displacement Strategy\\nFor existing and occupied buildings/properties that result in the temporary or permanent\\ndisplacement of current occupants, including commercial tenants, the applicant must submit a\\nRelocation and Anti- Displacement Strategy. This strategy (due with the application) provides\\nthe groundwork for the Relocation and Anti-Displacement Plan (due before the issuance of a\\nLetter of Commitment for financing). All Projects financed with LIHTCs in the District of\\nColumbia will be held to the standards of the Uniform Relocation Act and the District’s Rental\\nHousing Act.'}, vector=None, shard_key=None), ScoredPoint(id='c5671105-eacf-49e6-a5dc-6741fd66b7d2', version=5, score=0.80441827, payload={'metadata': {'Author': 'DFD 5/29/2019', 'Company': '', 'ContentTypeId': '0x010100C74D2375FCAC004496D58CD71322480C', 'CreationDate': \"D:20230728162703-04'00'\", 'Creator': 'Acrobat PDFMaker 23 for Word', 'Keywords': '', 'ModDate': \"D:20230801150450-04'00'\", 'Producer': 'Adobe PDF Library 23.3.20', 'SourceModified': '', 'Subject': '', 'Title': '', 'file_path': 'https://dhcd.dc.gov/sites/default/files/dc/sites/dhcd/publication/attachments/2023%20Qualified%20Allocation%20Plan%2007282023_1.pdf', 'page': 29, 'source': 'https://dhcd.dc.gov/sites/default/files/dc/sites/dhcd/publication/attachments/2023%20Qualified%20Allocation%20Plan%2007282023_1.pdf', 'total_pages': 59}, 'page_content': 'LEED checklist must be submitted, demonstrating compliance with all prerequisites and sufficient\\npoints to achieve LEED Silver or above. Please note that submission of evidence of an integrated\\ndesign charrette is not mandatory for LEED Projects but is strongly encouraged. If selected for\\nfinancing, as a condition precedent to loan closing, Project teams must be registered with LEED\\nOnline and add the DC Government account (green.building@dc.gov) to the LEED Online\\nProject team. Once construction is complete, Projects must demonstrate that they have achieved\\nthe appropriate certification.\\nSolar Requirements\\nAll Projects must install solar panels or submit a waiver for this requirement if solar panels cannot\\nbe installed on the building. Projects should include specifications for the system in the\\nschematic plans and related funding sources should be evident in the Form 202 Consolidated\\nRFP as a Permanent Source, as Non-Residential Income, and/or as additional cash flow in the\\n20-year proforma that enable a larger deferred developer fee. The Inflation Reduction Act\\nallows Projects to claim both the Solar ITC, LIHTC, DC LIHTC, and other related tax credits on\\nthe solar expenses incurred by the Project. DHCD expects that the funding benefits of the solar,\\nincluding but not limited to the Solar ITC and SRECs, will be included as a source for the Project.\\nRelocation and Anti-Displacement Strategy\\nFor existing and occupied buildings/properties that result in the temporary or permanent\\ndisplacement of current occupants, including commercial tenants, the applicant must submit a\\nRelocation and Anti- Displacement Strategy. This strategy (due with the application) provides\\nthe groundwork for the Relocation and Anti-Displacement Plan (due before the issuance of a\\nLetter of Commitment for financing). All Projects financed with LIHTCs in the District of\\nColumbia will be held to the standards of the Uniform Relocation Act and the District’s Rental\\nHousing Act.'}, vector=None, shard_key=None), ScoredPoint(id='1ab42449-ae80-443c-9401-09d125d73de0', version=8, score=0.80081296, payload={'metadata': {'Author': 'Chris Dickersin-Prokopp', 'Category': 'Request for Proposals', 'Company': 'DHCD', 'ContentTypeId': '0x010100C74D2375FCAC004496D58CD71322480C', 'CreationDate': \"D:20230728170152-04'00'\", 'Creator': 'Acrobat PDFMaker 23 for Word', 'Keywords': '\"Affordable Housing; Permanent Supportive Housing; Request for Proposals; DHCD\"', 'ModDate': \"D:20230815162708-04'00'\", 'Producer': 'Adobe PDF Library 23.3.20', 'SourceModified': '', 'Subject': 'Affordable Housing', 'Title': '2023 Consolidated Request for Proposals for Affordable Housing Projects', 'file_path': 'https://dhcd.dc.gov/sites/default/files/dc/sites/dhcd/publication/attachments/2023%20Affordable%20Housing%20RFP%2007282023_3.pdf', 'page': 47, 'source': 'https://dhcd.dc.gov/sites/default/files/dc/sites/dhcd/publication/attachments/2023%20Affordable%20Housing%20RFP%2007282023_3.pdf', 'total_pages': 92}, 'page_content': '•\\nCompletion of the DOEE Resilience and Solar Assessment Tool\\n(https://doee.dc.gov/sites/default/files/dc/sites/ddoe/service_content/attachments/DC%2\\n0DOEE%20Resilience%20Tool%20Manual-8.28.19.pdf)\\nSpecifically, the EGC Criterion 6.5 requires submitting a publicly disclosed Environmental\\nProduct Declaration (EPD) for 90% by volume for all (concrete/steel/insulation) used in the\\n2023 DHCD Consolidated Request for Proposals 48'}, vector=None, shard_key=None), ScoredPoint(id='023e0f24-eb55-4480-9fe7-cdea1d92f4a1', version=3, score=0.8007157, payload={'metadata': {'Author': 'Chris Dickersin-Prokopp', 'Category': 'Request for Proposals', 'Company': 'DHCD', 'ContentTypeId': '0x010100C74D2375FCAC004496D58CD71322480C', 'CreationDate': \"D:20230728170152-04'00'\", 'Creator': 'Acrobat PDFMaker 23 for Word', 'Keywords': '\"Affordable Housing; Permanent Supportive Housing; Request for Proposals; DHCD\"', 'ModDate': \"D:20230815162708-04'00'\", 'Producer': 'Adobe PDF Library 23.3.20', 'SourceModified': '', 'Subject': 'Affordable Housing', 'Title': '2023 Consolidated Request for Proposals for Affordable Housing Projects', 'file_path': 'https://dhcd.dc.gov/sites/default/files/dc/sites/dhcd/publication/attachments/2023%20Affordable%20Housing%20RFP%2007282023_3.pdf', 'page': 47, 'source': 'https://dhcd.dc.gov/sites/default/files/dc/sites/dhcd/publication/attachments/2023%20Affordable%20Housing%20RFP%2007282023_3.pdf', 'total_pages': 92}, 'page_content': '•\\nCompletion of the DOEE Resilience and Solar Assessment Tool\\n(https://doee.dc.gov/sites/default/files/dc/sites/ddoe/service_content/attachments/DC%2\\n0DOEE%20Resilience%20Tool%20Manual-8.28.19.pdf)\\nSpecifically, the EGC Criterion 6.5 requires submitting a publicly disclosed Environmental\\nProduct Declaration (EPD) for 90% by volume for all (concrete/steel/insulation) used in the\\n2023 DHCD Consolidated Request for Proposals 48'}, vector=None, shard_key=None), ScoredPoint(id='d03766fb-c586-4b90-847f-848cc0052ecf', version=2, score=0.7996385, payload={'metadata': {'Author': 'Chris Dickersin-Prokopp', 'Category': 'Request for Proposals', 'Company': 'DHCD', 'ContentTypeId': '0x010100C74D2375FCAC004496D58CD71322480C', 'CreationDate': \"D:20230728170152-04'00'\", 'Creator': 'Acrobat PDFMaker 23 for Word', 'Keywords': '\"Affordable Housing; Permanent Supportive Housing; Request for Proposals; DHCD\"', 'ModDate': \"D:20230815162708-04'00'\", 'Producer': 'Adobe PDF Library 23.3.20', 'SourceModified': '', 'Subject': 'Affordable Housing', 'Title': '2023 Consolidated Request for Proposals for Affordable Housing Projects', 'file_path': 'https://dhcd.dc.gov/sites/default/files/dc/sites/dhcd/publication/attachments/2023%20Affordable%20Housing%20RFP%2007282023_3.pdf', 'page': 14, 'source': 'https://dhcd.dc.gov/sites/default/files/dc/sites/dhcd/publication/attachments/2023%20Affordable%20Housing%20RFP%2007282023_3.pdf', 'total_pages': 92}, 'page_content': '•\\nDC Green Bank: Provides reduced-interest construction and permanent\\nloans for clean energy, energy and resource efficiency, and resilience\\nimprovements for either new construction or preservation projects.\\n•\\nHUD’s Green and Resilient Retrofit Program (GRRP): Up to $4.8 billion is\\navailable from HUD to fund energy efficiency and resilience measures in\\naffordable housing projects assisted under the Section 8 Project-Based\\nRental Assistance (PBRA) program, including properties that converted\\nunder the RAD Program prior to September 30, 2021; the Section 202\\nHousing for the Elderly program; the Section 811 Housing for Persons with\\nDisabilities program; or the Section 236 program.\\nThe first Notice of Funding Opportunity (NOFO) for the Elements path or\\ncohort for projects that are materially advanced in a recapitalization\\ntransaction is now closed – though DHCD expects projects in the Leading\\nEdge or Comprehensive cohorts to be most applicable to this RFP. Due to\\nthe timing of the release of this RFP and the GRRP award schedule,\\nDHCD will allow projects to submit scenarios with GRRP without having\\nreceived the award from HUD. Any award of HPTF would be subject to\\nthe 49% limitation and any resource available through this RFP would be\\ncontingent upon the receipt of the GRRP award.\\n•\\nAffordable Housing Retrofit Accelerator: DOEE is delivering supplementary\\ntechnical assistance through its new Affordable Housing Retrofit Accelerator\\nthrough the DC Sustainable Energy Utility (DCSEU) to help buildings subject\\nto DC Building Energy Performance Standards (BEPS) navigate and meet the\\nprogram’s compliance requirements. The Accelerator streamlines compliance\\nrequirements and brings financial and technical support to building owners\\nthrough the BEPS Online Portal. Buildings subject to BEPS can access Retrofit\\nAccelerator support by registering on the BEPS Portal. More details are\\navailable here. Any additional questions regarding BEPS compliance and'}, vector=None, shard_key=None), ScoredPoint(id='63ad4256-db78-4c82-91db-639b6e653c02', version=7, score=0.7991269, payload={'metadata': {'Author': 'Chris Dickersin-Prokopp', 'Category': 'Request for Proposals', 'Company': 'DHCD', 'ContentTypeId': '0x010100C74D2375FCAC004496D58CD71322480C', 'CreationDate': \"D:20230728170152-04'00'\", 'Creator': 'Acrobat PDFMaker 23 for Word', 'Keywords': '\"Affordable Housing; Permanent Supportive Housing; Request for Proposals; DHCD\"', 'ModDate': \"D:20230815162708-04'00'\", 'Producer': 'Adobe PDF Library 23.3.20', 'SourceModified': '', 'Subject': 'Affordable Housing', 'Title': '2023 Consolidated Request for Proposals for Affordable Housing Projects', 'file_path': 'https://dhcd.dc.gov/sites/default/files/dc/sites/dhcd/publication/attachments/2023%20Affordable%20Housing%20RFP%2007282023_3.pdf', 'page': 14, 'source': 'https://dhcd.dc.gov/sites/default/files/dc/sites/dhcd/publication/attachments/2023%20Affordable%20Housing%20RFP%2007282023_3.pdf', 'total_pages': 92}, 'page_content': '•\\nDC Green Bank: Provides reduced-interest construction and permanent\\nloans for clean energy, energy and resource efficiency, and resilience\\nimprovements for either new construction or preservation projects.\\n•\\nHUD’s Green and Resilient Retrofit Program (GRRP): Up to $4.8 billion is\\navailable from HUD to fund energy efficiency and resilience measures in\\naffordable housing projects assisted under the Section 8 Project-Based\\nRental Assistance (PBRA) program, including properties that converted\\nunder the RAD Program prior to September 30, 2021; the Section 202\\nHousing for the Elderly program; the Section 811 Housing for Persons with\\nDisabilities program; or the Section 236 program.\\nThe first Notice of Funding Opportunity (NOFO) for the Elements path or\\ncohort for projects that are materially advanced in a recapitalization\\ntransaction is now closed – though DHCD expects projects in the Leading\\nEdge or Comprehensive cohorts to be most applicable to this RFP. Due to\\nthe timing of the release of this RFP and the GRRP award schedule,\\nDHCD will allow projects to submit scenarios with GRRP without having\\nreceived the award from HUD. Any award of HPTF would be subject to\\nthe 49% limitation and any resource available through this RFP would be\\ncontingent upon the receipt of the GRRP award.\\n•\\nAffordable Housing Retrofit Accelerator: DOEE is delivering supplementary\\ntechnical assistance through its new Affordable Housing Retrofit Accelerator\\nthrough the DC Sustainable Energy Utility (DCSEU) to help buildings subject\\nto DC Building Energy Performance Standards (BEPS) navigate and meet the\\nprogram’s compliance requirements. The Accelerator streamlines compliance\\nrequirements and brings financial and technical support to building owners\\nthrough the BEPS Online Portal. Buildings subject to BEPS can access Retrofit\\nAccelerator support by registering on the BEPS Portal. More details are\\navailable here. Any additional questions regarding BEPS compliance and'}, vector=None, shard_key=None), ScoredPoint(id='726249e8-7ca2-434e-aa52-aabd117e3d07', version=7, score=0.79693526, payload={'metadata': {'Author': 'Chris Dickersin-Prokopp', 'Category': 'Request for Proposals', 'Company': 'DHCD', 'ContentTypeId': '0x010100C74D2375FCAC004496D58CD71322480C', 'CreationDate': \"D:20230728170152-04'00'\", 'Creator': 'Acrobat PDFMaker 23 for Word', 'Keywords': '\"Affordable Housing; Permanent Supportive Housing; Request for Proposals; DHCD\"', 'ModDate': \"D:20230815162708-04'00'\", 'Producer': 'Adobe PDF Library 23.3.20', 'SourceModified': '', 'Subject': 'Affordable Housing', 'Title': '2023 Consolidated Request for Proposals for Affordable Housing Projects', 'file_path': 'https://dhcd.dc.gov/sites/default/files/dc/sites/dhcd/publication/attachments/2023%20Affordable%20Housing%20RFP%2007282023_3.pdf', 'page': 13, 'source': 'https://dhcd.dc.gov/sites/default/files/dc/sites/dhcd/publication/attachments/2023%20Affordable%20Housing%20RFP%2007282023_3.pdf', 'total_pages': 92}, 'page_content': 'sustainability and climate resiliency.\\nThrough the IRA, projects are able to claim the Solar Investment Tax Credit\\n(Solar ITC) and its relevant bonuses alongside federal LIHTC, DC LIHTC, and\\nother related tax credits on solar expenses incurred by the project. DHCD\\nexpects that these funding benefits will be included as a source for each\\nproject, in addition to any other relevant credits such as the 45L credit.\\nThe IRA and other federal laws have also increased available loan and grant\\nsources for efficiency measures that can be used by projects to meet the 49%\\nHPTF limitation, including those available from:\\n2023 DHCD Consolidated Request for Proposals 14'}, vector=None, shard_key=None)]\n",
            "\u001b[00m\n",
            "\u001b[32;1m\u001b[1;3mFinal Answer: \n",
            "\n",
            "Risk assessment report on the application processes and timelines for each identified financing option:\n",
            "\n",
            "1. DC Green Bank:\n",
            "   - Provides reduced-interest construction and permanent loans for clean energy, energy, and resource efficiency, and resilience improvements for either new construction or preservation projects.\n",
            "\n",
            "2. HUD’s Green and Resilient Retrofit Program (GRRP):\n",
            "   - Up to $4.8 billion is available from HUD to fund energy efficiency and resilience measures in affordable housing projects assisted under the Section 8 Project-Based Rental Assistance (PBRA) program, including properties that converted under the RAD Program prior to September 30, 2021; the Section 202 Housing for the Elderly program; the Section 811 Housing for Persons with Disabilities program; or the Section 236 program.\n",
            "   - Due to the timing of the release of this RFP and the GRRP award schedule, DHCD will allow projects to submit scenarios with GRRP without having received the award from HUD. Any award of HPTF would be subject to the 49% limitation, and any resource available through this RFP would be contingent upon the receipt of the GRRP award.\n",
            "\n",
            "3. Affordable Housing Retrofit Accelerator:\n",
            "   - DOEE is delivering supplementary technical assistance through its new Affordable Housing Retrofit Accelerator through the DC Sustainable Energy Utility (DCSEU) to help buildings subject to DC Building Energy Performance Standards (BEPS) navigate and meet the program’s compliance requirements.\n",
            "   - The Accelerator streamlines compliance requirements and brings financial and technical support to building owners through the BEPS Online Portal.\n",
            "\n",
            "These financing options provide opportunities for funding and technical assistance for the comprehensive, deep energy retrofit of Marbury Plaza, including the 500kW solar project on the roof, ensuring compliance with sustainability and climate resiliency standards. Each option has specific requirements and benefits that need to be considered for successful implementation of the project.\u001b[0m\n",
            "\n",
            "\u001b[1m> Finished chain.\u001b[0m\n",
            "\n",
            "\n",
            "\u001b[1m> Entering new CrewAgentExecutor chain...\u001b[0m\n",
            "\u001b[32;1m\u001b[1;3mI need to use the PolicyExtractionTool to gather relevant policy documents to understand the financing options available for the project.\n",
            "\n",
            "Action: PolicyExtractionTool\n",
            "Action Input: {\"project_overview\": \"Affordable housing project seeking financing options\", \"property_details\": \"Located in Washington, DC\"}\u001b[0m\u001b[95m \n",
            "\n",
            "[ScoredPoint(id='08742112-305f-4b31-a1bc-c31b6aa14b32', version=6, score=0.8586519, payload={'metadata': {'Author': 'Chris Dickersin-Prokopp', 'Category': 'Request for Proposals', 'Company': 'DHCD', 'ContentTypeId': '0x010100C74D2375FCAC004496D58CD71322480C', 'CreationDate': \"D:20230728170152-04'00'\", 'Creator': 'Acrobat PDFMaker 23 for Word', 'Keywords': '\"Affordable Housing; Permanent Supportive Housing; Request for Proposals; DHCD\"', 'ModDate': \"D:20230815162708-04'00'\", 'Producer': 'Adobe PDF Library 23.3.20', 'SourceModified': '', 'Subject': 'Affordable Housing', 'Title': '2023 Consolidated Request for Proposals for Affordable Housing Projects', 'file_path': 'https://dhcd.dc.gov/sites/default/files/dc/sites/dhcd/publication/attachments/2023%20Affordable%20Housing%20RFP%2007282023_3.pdf', 'page': 4, 'source': 'https://dhcd.dc.gov/sites/default/files/dc/sites/dhcd/publication/attachments/2023%20Affordable%20Housing%20RFP%2007282023_3.pdf', 'total_pages': 92}, 'page_content': 'There are several other notable shifts in the affordable housing ecosystem in the District.\\nAdditional resources from the 2022 federal Inflation Reduction Act – an historic investment\\nin clean energy at the federal level, with an estimated $10 billion of loan, grant, and tax\\nincentive opportunities for affordable housing projects and low-income communities – are\\nstarting to take shape, and are expected to become available over the next several years.\\nMeanwhile, the demand for available Private Activity Bond Volume Cap (Bond Cap) issued\\nby the District of Columbia Housing Finance Agency (DCHFA) has exceeded supply, making\\nthis resource and the associated 4% Low Income Housing Tax Credits (LIHTC) competitive\\nfor the first time. Efficiency requirements for projects of at least 10,000 square feet of gross\\nfloor area where at least 15% of the total cost is financed by the District are substantially\\nincreasing through the accelerated implementation of the Greener Government Buildings\\nAmendment Act (D.C. Law 24-306), requiring net zero energy compliance for these projects\\nacross the board. Lastly, as of July 1, 2023, operating subsidies through the Local Rent\\nSupplement Program (LRSP) administered by the DC Housing Authority (DCHA) are no\\nlonger determined by submarket rent limits, but rather by an individual unit’s size, type, age,\\nlocation, and the amenities, services, and utilities provided by the owner.\\nIt is in this context that the DC Department of Housing and Community Development (DHCD), the\\nDC Housing Authority (DCHA), the DC Department of Behavioral Health (DBH), the DC\\nDepartment of Human Services (DHS), the DC Department of Health (DOH), and the Department\\nof Energy and Environment (DOEE) release this Consolidated Request for Proposals (RFP), the\\nDistrict of Columbia’s primary vehicle for awarding federal and local funds for affordable housing.\\nBecause there is an existing pipeline of projects that require tax-exempt bond cap allocation'}, vector=None, shard_key=None), ScoredPoint(id='fe53f767-a71f-4747-af50-50600b6cbbc7', version=1, score=0.85861564, payload={'metadata': {'Author': 'Chris Dickersin-Prokopp', 'Category': 'Request for Proposals', 'Company': 'DHCD', 'ContentTypeId': '0x010100C74D2375FCAC004496D58CD71322480C', 'CreationDate': \"D:20230728170152-04'00'\", 'Creator': 'Acrobat PDFMaker 23 for Word', 'Keywords': '\"Affordable Housing; Permanent Supportive Housing; Request for Proposals; DHCD\"', 'ModDate': \"D:20230815162708-04'00'\", 'Producer': 'Adobe PDF Library 23.3.20', 'SourceModified': '', 'Subject': 'Affordable Housing', 'Title': '2023 Consolidated Request for Proposals for Affordable Housing Projects', 'file_path': 'https://dhcd.dc.gov/sites/default/files/dc/sites/dhcd/publication/attachments/2023%20Affordable%20Housing%20RFP%2007282023_3.pdf', 'page': 4, 'source': 'https://dhcd.dc.gov/sites/default/files/dc/sites/dhcd/publication/attachments/2023%20Affordable%20Housing%20RFP%2007282023_3.pdf', 'total_pages': 92}, 'page_content': 'There are several other notable shifts in the affordable housing ecosystem in the District.\\nAdditional resources from the 2022 federal Inflation Reduction Act – an historic investment\\nin clean energy at the federal level, with an estimated $10 billion of loan, grant, and tax\\nincentive opportunities for affordable housing projects and low-income communities – are\\nstarting to take shape, and are expected to become available over the next several years.\\nMeanwhile, the demand for available Private Activity Bond Volume Cap (Bond Cap) issued\\nby the District of Columbia Housing Finance Agency (DCHFA) has exceeded supply, making\\nthis resource and the associated 4% Low Income Housing Tax Credits (LIHTC) competitive\\nfor the first time. Efficiency requirements for projects of at least 10,000 square feet of gross\\nfloor area where at least 15% of the total cost is financed by the District are substantially\\nincreasing through the accelerated implementation of the Greener Government Buildings\\nAmendment Act (D.C. Law 24-306), requiring net zero energy compliance for these projects\\nacross the board. Lastly, as of July 1, 2023, operating subsidies through the Local Rent\\nSupplement Program (LRSP) administered by the DC Housing Authority (DCHA) are no\\nlonger determined by submarket rent limits, but rather by an individual unit’s size, type, age,\\nlocation, and the amenities, services, and utilities provided by the owner.\\nIt is in this context that the DC Department of Housing and Community Development (DHCD), the\\nDC Housing Authority (DCHA), the DC Department of Behavioral Health (DBH), the DC\\nDepartment of Human Services (DHS), the DC Department of Health (DOH), and the Department\\nof Energy and Environment (DOEE) release this Consolidated Request for Proposals (RFP), the\\nDistrict of Columbia’s primary vehicle for awarding federal and local funds for affordable housing.\\nBecause there is an existing pipeline of projects that require tax-exempt bond cap allocation'}, vector=None, shard_key=None), ScoredPoint(id='eed1f7d1-4a89-44a8-a061-ee30afbbe959', version=1, score=0.8583236, payload={'metadata': {'Author': 'Chris Dickersin-Prokopp', 'Category': 'Request for Proposals', 'Company': 'DHCD', 'ContentTypeId': '0x010100C74D2375FCAC004496D58CD71322480C', 'CreationDate': \"D:20230728170152-04'00'\", 'Creator': 'Acrobat PDFMaker 23 for Word', 'Keywords': '\"Affordable Housing; Permanent Supportive Housing; Request for Proposals; DHCD\"', 'ModDate': \"D:20230815162708-04'00'\", 'Producer': 'Adobe PDF Library 23.3.20', 'SourceModified': '', 'Subject': 'Affordable Housing', 'Title': '2023 Consolidated Request for Proposals for Affordable Housing Projects', 'file_path': 'https://dhcd.dc.gov/sites/default/files/dc/sites/dhcd/publication/attachments/2023%20Affordable%20Housing%20RFP%2007282023_3.pdf', 'page': 4, 'source': 'https://dhcd.dc.gov/sites/default/files/dc/sites/dhcd/publication/attachments/2023%20Affordable%20Housing%20RFP%2007282023_3.pdf', 'total_pages': 92}, 'page_content': 'District of Columbia’s primary vehicle for awarding federal and local funds for affordable housing.\\nBecause there is an existing pipeline of projects that require tax-exempt bond cap allocation\\nthrough 2025, this Consolidated RFP will focus on affordable rental projects that do not request\\ntax-exempt bonds and 4% Low Income Housing Tax Credit (LIHTC) structures (referred to as\\nNon-Multifamily Mortgage Revenue Bond structures or scenarios) as well as homeownership\\nprojects.\\nThe requirements of this RFP are specifically guided by the following:\\n•\\nthe housing and geographic goals outlined in Mayor’s Order 2019-036 and the\\nHousing Equity Report;\\n•\\nthe District’s FY24 Fair Shot Budget;\\n•\\nthe Five Year Consolidated Plan for FY 2022 – 2026;\\n•\\nthe Housing Production Trust Fund (HPTF) statutory requirement that at least 90% of\\nproject obligations go to units for households earning no more than 50% of Median\\n5\\nFamily Income (MFI), and half for households earning no more than 30% of MFI;\\n5 D.C. Official Code §42-2802; the Housing Production Trust Fund Act of 1988, as amended (D.C. Law 7-202,\\neffective March 16, 1989)\\n2023 DHCD Consolidated Request for Proposals 5'}, vector=None, shard_key=None), ScoredPoint(id='9f3397bb-27bc-4502-b5f8-fc8b2dac59a7', version=6, score=0.85828954, payload={'metadata': {'Author': 'Chris Dickersin-Prokopp', 'Category': 'Request for Proposals', 'Company': 'DHCD', 'ContentTypeId': '0x010100C74D2375FCAC004496D58CD71322480C', 'CreationDate': \"D:20230728170152-04'00'\", 'Creator': 'Acrobat PDFMaker 23 for Word', 'Keywords': '\"Affordable Housing; Permanent Supportive Housing; Request for Proposals; DHCD\"', 'ModDate': \"D:20230815162708-04'00'\", 'Producer': 'Adobe PDF Library 23.3.20', 'SourceModified': '', 'Subject': 'Affordable Housing', 'Title': '2023 Consolidated Request for Proposals for Affordable Housing Projects', 'file_path': 'https://dhcd.dc.gov/sites/default/files/dc/sites/dhcd/publication/attachments/2023%20Affordable%20Housing%20RFP%2007282023_3.pdf', 'page': 4, 'source': 'https://dhcd.dc.gov/sites/default/files/dc/sites/dhcd/publication/attachments/2023%20Affordable%20Housing%20RFP%2007282023_3.pdf', 'total_pages': 92}, 'page_content': 'District of Columbia’s primary vehicle for awarding federal and local funds for affordable housing.\\nBecause there is an existing pipeline of projects that require tax-exempt bond cap allocation\\nthrough 2025, this Consolidated RFP will focus on affordable rental projects that do not request\\ntax-exempt bonds and 4% Low Income Housing Tax Credit (LIHTC) structures (referred to as\\nNon-Multifamily Mortgage Revenue Bond structures or scenarios) as well as homeownership\\nprojects.\\nThe requirements of this RFP are specifically guided by the following:\\n•\\nthe housing and geographic goals outlined in Mayor’s Order 2019-036 and the\\nHousing Equity Report;\\n•\\nthe District’s FY24 Fair Shot Budget;\\n•\\nthe Five Year Consolidated Plan for FY 2022 – 2026;\\n•\\nthe Housing Production Trust Fund (HPTF) statutory requirement that at least 90% of\\nproject obligations go to units for households earning no more than 50% of Median\\n5\\nFamily Income (MFI), and half for households earning no more than 30% of MFI;\\n5 D.C. Official Code §42-2802; the Housing Production Trust Fund Act of 1988, as amended (D.C. Law 7-202,\\neffective March 16, 1989)\\n2023 DHCD Consolidated Request for Proposals 5'}, vector=None, shard_key=None), ScoredPoint(id='4a525928-8c53-4b65-a206-409bc07c3a88', version=1, score=0.8507799, payload={'metadata': {'Author': 'Chris Dickersin-Prokopp', 'Category': 'Request for Proposals', 'Company': 'DHCD', 'ContentTypeId': '0x010100C74D2375FCAC004496D58CD71322480C', 'CreationDate': \"D:20230728170152-04'00'\", 'Creator': 'Acrobat PDFMaker 23 for Word', 'Keywords': '\"Affordable Housing; Permanent Supportive Housing; Request for Proposals; DHCD\"', 'ModDate': \"D:20230815162708-04'00'\", 'Producer': 'Adobe PDF Library 23.3.20', 'SourceModified': '', 'Subject': 'Affordable Housing', 'Title': '2023 Consolidated Request for Proposals for Affordable Housing Projects', 'file_path': 'https://dhcd.dc.gov/sites/default/files/dc/sites/dhcd/publication/attachments/2023%20Affordable%20Housing%20RFP%2007282023_3.pdf', 'page': 0, 'source': 'https://dhcd.dc.gov/sites/default/files/dc/sites/dhcd/publication/attachments/2023%20Affordable%20Housing%20RFP%2007282023_3.pdf', 'total_pages': 92}, 'page_content': '2023\\nConsolidated request for\\nproposals for affo rdable\\nhousing projects\\nIssue Date: August 1, 2023\\nUpdated: August 15, 2023\\n• Pages 43, 44, 86, 87: Changes to two evaluation scoring criteria points options, “Affordable\\nHousing Opportunities Across Planning Areas,” and “Proximity to Neighborhood Amenities\"\\nHousing Production Trust Fund (HPTF )| Department of Behavioral Health (DBH) Grant Funds |\\nHOME Investment Partnerships Program (HOME )| Community Development Block Grant (CDBG) |\\nNational Housing Trust Fund (NHTF )| Housing Opportunities for People with AIDS (HOPWA )|\\nLocal Rent Supplement Program (LRSP) | Department of Human Services (DHSS)upportive Services Funds\\nDepartment of Housing and Community Development\\n1800 Martin Luther King Jr. Avenue SE |Washington, DC 20020'}, vector=None, shard_key=None), ScoredPoint(id='5980b3f5-4bd5-4f4d-95e3-25138d813883', version=6, score=0.8507799, payload={'metadata': {'Author': 'Chris Dickersin-Prokopp', 'Category': 'Request for Proposals', 'Company': 'DHCD', 'ContentTypeId': '0x010100C74D2375FCAC004496D58CD71322480C', 'CreationDate': \"D:20230728170152-04'00'\", 'Creator': 'Acrobat PDFMaker 23 for Word', 'Keywords': '\"Affordable Housing; Permanent Supportive Housing; Request for Proposals; DHCD\"', 'ModDate': \"D:20230815162708-04'00'\", 'Producer': 'Adobe PDF Library 23.3.20', 'SourceModified': '', 'Subject': 'Affordable Housing', 'Title': '2023 Consolidated Request for Proposals for Affordable Housing Projects', 'file_path': 'https://dhcd.dc.gov/sites/default/files/dc/sites/dhcd/publication/attachments/2023%20Affordable%20Housing%20RFP%2007282023_3.pdf', 'page': 0, 'source': 'https://dhcd.dc.gov/sites/default/files/dc/sites/dhcd/publication/attachments/2023%20Affordable%20Housing%20RFP%2007282023_3.pdf', 'total_pages': 92}, 'page_content': '2023\\nConsolidated request for\\nproposals for affo rdable\\nhousing projects\\nIssue Date: August 1, 2023\\nUpdated: August 15, 2023\\n• Pages 43, 44, 86, 87: Changes to two evaluation scoring criteria points options, “Affordable\\nHousing Opportunities Across Planning Areas,” and “Proximity to Neighborhood Amenities\"\\nHousing Production Trust Fund (HPTF )| Department of Behavioral Health (DBH) Grant Funds |\\nHOME Investment Partnerships Program (HOME )| Community Development Block Grant (CDBG) |\\nNational Housing Trust Fund (NHTF )| Housing Opportunities for People with AIDS (HOPWA )|\\nLocal Rent Supplement Program (LRSP) | Department of Human Services (DHSS)upportive Services Funds\\nDepartment of Housing and Community Development\\n1800 Martin Luther King Jr. Avenue SE |Washington, DC 20020'}, vector=None, shard_key=None), ScoredPoint(id='8153b9e1-c9ef-4d7c-8ec8-f4d06d7bb3cb', version=5, score=0.8482894, payload={'metadata': {'Author': 'DFD 5/29/2019', 'Company': '', 'ContentTypeId': '0x010100C74D2375FCAC004496D58CD71322480C', 'CreationDate': \"D:20230728162703-04'00'\", 'Creator': 'Acrobat PDFMaker 23 for Word', 'Keywords': '', 'ModDate': \"D:20230801150450-04'00'\", 'Producer': 'Adobe PDF Library 23.3.20', 'SourceModified': '', 'Subject': '', 'Title': '', 'file_path': 'https://dhcd.dc.gov/sites/default/files/dc/sites/dhcd/publication/attachments/2023%20Qualified%20Allocation%20Plan%2007282023_1.pdf', 'page': 0, 'source': 'https://dhcd.dc.gov/sites/default/files/dc/sites/dhcd/publication/attachments/2023%20Qualified%20Allocation%20Plan%2007282023_1.pdf', 'total_pages': 59}, 'page_content': '2 02 3\\nLOW INCOME HOUSING TAX CREDIT\\nQualified Allocation Plan\\nAugust 2023\\nDepartment of Housing and Community Development\\n1800 Martin Luther King Jr. Avenue SE | Washington, DC 20020'}, vector=None, shard_key=None), ScoredPoint(id='e595faf5-ab24-4e03-8aa6-ffc6f0d46fe2', version=0, score=0.8482529, payload={'metadata': {'Author': 'DFD 5/29/2019', 'Company': '', 'ContentTypeId': '0x010100C74D2375FCAC004496D58CD71322480C', 'CreationDate': \"D:20230728162703-04'00'\", 'Creator': 'Acrobat PDFMaker 23 for Word', 'Keywords': '', 'ModDate': \"D:20230801150450-04'00'\", 'Producer': 'Adobe PDF Library 23.3.20', 'SourceModified': '', 'Subject': '', 'Title': '', 'file_path': 'https://dhcd.dc.gov/sites/default/files/dc/sites/dhcd/publication/attachments/2023%20Qualified%20Allocation%20Plan%2007282023_1.pdf', 'page': 0, 'source': 'https://dhcd.dc.gov/sites/default/files/dc/sites/dhcd/publication/attachments/2023%20Qualified%20Allocation%20Plan%2007282023_1.pdf', 'total_pages': 59}, 'page_content': '2 02 3\\nLOW INCOME HOUSING TAX CREDIT\\nQualified Allocation Plan\\nAugust 2023\\nDepartment of Housing and Community Development\\n1800 Martin Luther King Jr. Avenue SE | Washington, DC 20020'}, vector=None, shard_key=None), ScoredPoint(id='98142646-0a0b-4415-a559-d2a47859bfbc', version=2, score=0.84790856, payload={'metadata': {'Author': 'Chris Dickersin-Prokopp', 'Category': 'Request for Proposals', 'Company': 'DHCD', 'ContentTypeId': '0x010100C74D2375FCAC004496D58CD71322480C', 'CreationDate': \"D:20230728170152-04'00'\", 'Creator': 'Acrobat PDFMaker 23 for Word', 'Keywords': '\"Affordable Housing; Permanent Supportive Housing; Request for Proposals; DHCD\"', 'ModDate': \"D:20230815162708-04'00'\", 'Producer': 'Adobe PDF Library 23.3.20', 'SourceModified': '', 'Subject': 'Affordable Housing', 'Title': '2023 Consolidated Request for Proposals for Affordable Housing Projects', 'file_path': 'https://dhcd.dc.gov/sites/default/files/dc/sites/dhcd/publication/attachments/2023%20Affordable%20Housing%20RFP%2007282023_3.pdf', 'page': 42, 'source': 'https://dhcd.dc.gov/sites/default/files/dc/sites/dhcd/publication/attachments/2023%20Affordable%20Housing%20RFP%2007282023_3.pdf', 'total_pages': 92}, 'page_content': 'supply more equitably across neighborhoods and Wards, and to counter the systemically\\nracist housing policy of the past which has concentrated affordable housing in neighborhoods\\neast of Rock Creek Park, particularly in Wards 7 and 8. Points will be assigned based on the\\nPlanning Areas identified in the District’s October 2019 Housing Equity Report, which charts\\na pathway to achieve the goal of 12,000 new affordable units by 2025 in a more equitable\\nand inclusive manner.\\nMaximum points will be given to Projects located in those areas of the city that have the\\nlargest deficit of existing affordable housing, namely the Rock Creek West, Near Northwest,\\nor Capitol Hill Planning Areas. Applicants should use the interactive map provided in the\\nOnline Application System to determine in which Planning Area their project is located.\\nProximity to Transit (Up to +10)\\nMaximum points will be awarded to Projects located within ¼ mile of a Metrorail station or\\nDC Streetcar stop. Points will be awarded to Projects located within ½ mile of a Metrorail\\nstation or DC Streetcar stop, or within ¼ mile of a 24-hour service bus line stop as referenced\\nin B24-1129, the “Fare-Free Bus Funding Emergency Amendment Act of 2022”.\\n2023 DHCD Consolidated Request for Proposals 43'}, vector=None, shard_key=None), ScoredPoint(id='0b22fba9-912e-4fae-af04-2751314e98ab', version=7, score=0.84790856, payload={'metadata': {'Author': 'Chris Dickersin-Prokopp', 'Category': 'Request for Proposals', 'Company': 'DHCD', 'ContentTypeId': '0x010100C74D2375FCAC004496D58CD71322480C', 'CreationDate': \"D:20230728170152-04'00'\", 'Creator': 'Acrobat PDFMaker 23 for Word', 'Keywords': '\"Affordable Housing; Permanent Supportive Housing; Request for Proposals; DHCD\"', 'ModDate': \"D:20230815162708-04'00'\", 'Producer': 'Adobe PDF Library 23.3.20', 'SourceModified': '', 'Subject': 'Affordable Housing', 'Title': '2023 Consolidated Request for Proposals for Affordable Housing Projects', 'file_path': 'https://dhcd.dc.gov/sites/default/files/dc/sites/dhcd/publication/attachments/2023%20Affordable%20Housing%20RFP%2007282023_3.pdf', 'page': 42, 'source': 'https://dhcd.dc.gov/sites/default/files/dc/sites/dhcd/publication/attachments/2023%20Affordable%20Housing%20RFP%2007282023_3.pdf', 'total_pages': 92}, 'page_content': 'supply more equitably across neighborhoods and Wards, and to counter the systemically\\nracist housing policy of the past which has concentrated affordable housing in neighborhoods\\neast of Rock Creek Park, particularly in Wards 7 and 8. Points will be assigned based on the\\nPlanning Areas identified in the District’s October 2019 Housing Equity Report, which charts\\na pathway to achieve the goal of 12,000 new affordable units by 2025 in a more equitable\\nand inclusive manner.\\nMaximum points will be given to Projects located in those areas of the city that have the\\nlargest deficit of existing affordable housing, namely the Rock Creek West, Near Northwest,\\nor Capitol Hill Planning Areas. Applicants should use the interactive map provided in the\\nOnline Application System to determine in which Planning Area their project is located.\\nProximity to Transit (Up to +10)\\nMaximum points will be awarded to Projects located within ¼ mile of a Metrorail station or\\nDC Streetcar stop. Points will be awarded to Projects located within ½ mile of a Metrorail\\nstation or DC Streetcar stop, or within ¼ mile of a 24-hour service bus line stop as referenced\\nin B24-1129, the “Fare-Free Bus Funding Emergency Amendment Act of 2022”.\\n2023 DHCD Consolidated Request for Proposals 43'}, vector=None, shard_key=None), ScoredPoint(id='c1ee6609-50bf-472d-9f41-15dd751aec79', version=5, score=0.8448034, payload={'metadata': {'Author': 'DFD 5/29/2019', 'Company': '', 'ContentTypeId': '0x010100C74D2375FCAC004496D58CD71322480C', 'CreationDate': \"D:20230728162703-04'00'\", 'Creator': 'Acrobat PDFMaker 23 for Word', 'Keywords': '', 'ModDate': \"D:20230801150450-04'00'\", 'Producer': 'Adobe PDF Library 23.3.20', 'SourceModified': '', 'Subject': '', 'Title': '', 'file_path': 'https://dhcd.dc.gov/sites/default/files/dc/sites/dhcd/publication/attachments/2023%20Qualified%20Allocation%20Plan%2007282023_1.pdf', 'page': 34, 'source': 'https://dhcd.dc.gov/sites/default/files/dc/sites/dhcd/publication/attachments/2023%20Qualified%20Allocation%20Plan%2007282023_1.pdf', 'total_pages': 59}, 'page_content': 'this criteria is to disperse the District’s affordable housing supply more equitably across\\nneighborhoods and Wards, and to counter the systemically racist housing policy of the past\\nwhich has concentrated affordable housing and discouraged placement of goods, services\\nand amenities in neighborhoods east of Rock Creek Park, particularly in Wards 7 and 8.\\nPlanning Areas are identified in the District’s October 2019 Housing Equity Report that charts\\na pathway to achieve the goal of 12,000 new affordable units by 2025 in a more equitable\\nand inclusive manner. Maximum points will be given to Projects located in the Rock Creek\\nWest, Near Northwest, or Capitol Hill Planning Areas. Applicants should use the interactive\\nmap provided in the Online Application System Consolidated RFP to determine in which\\nPlanning Area their Project is located.\\nProximity to Transit\\nMaximum points will be given to Projects that are located within ¼ mile of a Metrorail station or a\\nDC Streetcar stop. Points will be awarded for Projects located within ½ mile of a Metrorail\\nstation, or a DC Streetcar stop or within ¼ mile of a 24-hour service bus line stop as referenced\\nin B24-1129, the “Fare-Free Bus Funding Emergency Amendment Act of 2022.”\\nD HCD 2023 Qualified Allocation Plan, Page 35 of 59'}, vector=None, shard_key=None), ScoredPoint(id='6d2d8ed8-75f8-4d7d-a2d0-1e68a1334d76', version=0, score=0.8447236, payload={'metadata': {'Author': 'DFD 5/29/2019', 'Company': '', 'ContentTypeId': '0x010100C74D2375FCAC004496D58CD71322480C', 'CreationDate': \"D:20230728162703-04'00'\", 'Creator': 'Acrobat PDFMaker 23 for Word', 'Keywords': '', 'ModDate': \"D:20230801150450-04'00'\", 'Producer': 'Adobe PDF Library 23.3.20', 'SourceModified': '', 'Subject': '', 'Title': '', 'file_path': 'https://dhcd.dc.gov/sites/default/files/dc/sites/dhcd/publication/attachments/2023%20Qualified%20Allocation%20Plan%2007282023_1.pdf', 'page': 34, 'source': 'https://dhcd.dc.gov/sites/default/files/dc/sites/dhcd/publication/attachments/2023%20Qualified%20Allocation%20Plan%2007282023_1.pdf', 'total_pages': 59}, 'page_content': 'this criteria is to disperse the District’s affordable housing supply more equitably across\\nneighborhoods and Wards, and to counter the systemically racist housing policy of the past\\nwhich has concentrated affordable housing and discouraged placement of goods, services\\nand amenities in neighborhoods east of Rock Creek Park, particularly in Wards 7 and 8.\\nPlanning Areas are identified in the District’s October 2019 Housing Equity Report that charts\\na pathway to achieve the goal of 12,000 new affordable units by 2025 in a more equitable\\nand inclusive manner. Maximum points will be given to Projects located in the Rock Creek\\nWest, Near Northwest, or Capitol Hill Planning Areas. Applicants should use the interactive\\nmap provided in the Online Application System Consolidated RFP to determine in which\\nPlanning Area their Project is located.\\nProximity to Transit\\nMaximum points will be given to Projects that are located within ¼ mile of a Metrorail station or a\\nDC Streetcar stop. Points will be awarded for Projects located within ½ mile of a Metrorail\\nstation, or a DC Streetcar stop or within ¼ mile of a 24-hour service bus line stop as referenced\\nin B24-1129, the “Fare-Free Bus Funding Emergency Amendment Act of 2022.”\\nD HCD 2023 Qualified Allocation Plan, Page 35 of 59'}, vector=None, shard_key=None), ScoredPoint(id='f3e49aa5-2bf7-4d58-903a-7f378f615efe', version=1, score=0.844405, payload={'metadata': {'Author': 'Chris Dickersin-Prokopp', 'Category': 'Request for Proposals', 'Company': 'DHCD', 'ContentTypeId': '0x010100C74D2375FCAC004496D58CD71322480C', 'CreationDate': \"D:20230728170152-04'00'\", 'Creator': 'Acrobat PDFMaker 23 for Word', 'Keywords': '\"Affordable Housing; Permanent Supportive Housing; Request for Proposals; DHCD\"', 'ModDate': \"D:20230815162708-04'00'\", 'Producer': 'Adobe PDF Library 23.3.20', 'SourceModified': '', 'Subject': 'Affordable Housing', 'Title': '2023 Consolidated Request for Proposals for Affordable Housing Projects', 'file_path': 'https://dhcd.dc.gov/sites/default/files/dc/sites/dhcd/publication/attachments/2023%20Affordable%20Housing%20RFP%2007282023_3.pdf', 'page': 3, 'source': 'https://dhcd.dc.gov/sites/default/files/dc/sites/dhcd/publication/attachments/2023%20Affordable%20Housing%20RFP%2007282023_3.pdf', 'total_pages': 92}, 'page_content': 'I. INTRODUCTION\\nIn 2019, in response to population growth, an insufficient housing supply, and structural racial\\ndisparities, Mayor Muriel Bowser outlined bold housing goals for the District to create 12,000 new\\naffordable housing units and preserve 6,000 existing affordable housing units by 2025. Known\\nas the Housing Framework for Equity and Growth, a series of supporting documents outlined an\\nintegrated framework for increasing housing production and promoting equity for existing and\\nfuture residents. In particular, the District’s Housing Equity Report provided goals for the equitable\\ndistribution of affordable housing throughout Washington, DC to counter a historic legacy of\\nexclusionary and discriminatory housing policy. Since 2019, more than 7,600 new affordable\\n1\\nhousing units have been created.\\nIn 2022, the Bowser Administration recognized that bolder housing equity goals as well as more\\nintentional actions were needed to address the racial disparities in homeownership and household\\nwealth in the District. For example, the homeownership rate for Black households in the District is\\n2\\n34% compared to nearly 49% for white households. Additionally, a first-time homebuyer with the\\naverage income of a DC Black household could afford just 8.4% of homes sold in the District\\nbetween 2016 and 2020, compared to a buyer with the average income of a white household,\\n3\\nwhich could afford 71% of these homes. Recent trends such as rising interest rates have likely\\nfurther exacerbated disparities. To that end, the Black Homeownership Strike Forcew as convened\\nby the Mayor in June 2022 to helpthe District chart a path to not only rectify the harmful\\ndiscriminatory policies of the past but also increase and preserve access to homeownership for\\nlongtime District residents in an equitable manner. The culmination of the Strike Force’s work is\\nreflected in the Black Homeownership Strike Force Final Report. As further described in the'}, vector=None, shard_key=None), ScoredPoint(id='95370a38-b383-4ad2-9d9c-660f82f76581', version=6, score=0.844405, payload={'metadata': {'Author': 'Chris Dickersin-Prokopp', 'Category': 'Request for Proposals', 'Company': 'DHCD', 'ContentTypeId': '0x010100C74D2375FCAC004496D58CD71322480C', 'CreationDate': \"D:20230728170152-04'00'\", 'Creator': 'Acrobat PDFMaker 23 for Word', 'Keywords': '\"Affordable Housing; Permanent Supportive Housing; Request for Proposals; DHCD\"', 'ModDate': \"D:20230815162708-04'00'\", 'Producer': 'Adobe PDF Library 23.3.20', 'SourceModified': '', 'Subject': 'Affordable Housing', 'Title': '2023 Consolidated Request for Proposals for Affordable Housing Projects', 'file_path': 'https://dhcd.dc.gov/sites/default/files/dc/sites/dhcd/publication/attachments/2023%20Affordable%20Housing%20RFP%2007282023_3.pdf', 'page': 3, 'source': 'https://dhcd.dc.gov/sites/default/files/dc/sites/dhcd/publication/attachments/2023%20Affordable%20Housing%20RFP%2007282023_3.pdf', 'total_pages': 92}, 'page_content': 'I. INTRODUCTION\\nIn 2019, in response to population growth, an insufficient housing supply, and structural racial\\ndisparities, Mayor Muriel Bowser outlined bold housing goals for the District to create 12,000 new\\naffordable housing units and preserve 6,000 existing affordable housing units by 2025. Known\\nas the Housing Framework for Equity and Growth, a series of supporting documents outlined an\\nintegrated framework for increasing housing production and promoting equity for existing and\\nfuture residents. In particular, the District’s Housing Equity Report provided goals for the equitable\\ndistribution of affordable housing throughout Washington, DC to counter a historic legacy of\\nexclusionary and discriminatory housing policy. Since 2019, more than 7,600 new affordable\\n1\\nhousing units have been created.\\nIn 2022, the Bowser Administration recognized that bolder housing equity goals as well as more\\nintentional actions were needed to address the racial disparities in homeownership and household\\nwealth in the District. For example, the homeownership rate for Black households in the District is\\n2\\n34% compared to nearly 49% for white households. Additionally, a first-time homebuyer with the\\naverage income of a DC Black household could afford just 8.4% of homes sold in the District\\nbetween 2016 and 2020, compared to a buyer with the average income of a white household,\\n3\\nwhich could afford 71% of these homes. Recent trends such as rising interest rates have likely\\nfurther exacerbated disparities. To that end, the Black Homeownership Strike Forcew as convened\\nby the Mayor in June 2022 to helpthe District chart a path to not only rectify the harmful\\ndiscriminatory policies of the past but also increase and preserve access to homeownership for\\nlongtime District residents in an equitable manner. The culmination of the Strike Force’s work is\\nreflected in the Black Homeownership Strike Force Final Report. As further described in the'}, vector=None, shard_key=None), ScoredPoint(id='40ed4684-5cf9-4612-bedc-25132e0a65d6', version=3, score=0.84268427, payload={'metadata': {'Author': 'Chris Dickersin-Prokopp', 'Category': 'Request for Proposals', 'Company': 'DHCD', 'ContentTypeId': '0x010100C74D2375FCAC004496D58CD71322480C', 'CreationDate': \"D:20230728170152-04'00'\", 'Creator': 'Acrobat PDFMaker 23 for Word', 'Keywords': '\"Affordable Housing; Permanent Supportive Housing; Request for Proposals; DHCD\"', 'ModDate': \"D:20230815162708-04'00'\", 'Producer': 'Adobe PDF Library 23.3.20', 'SourceModified': '', 'Subject': 'Affordable Housing', 'Title': '2023 Consolidated Request for Proposals for Affordable Housing Projects', 'file_path': 'https://dhcd.dc.gov/sites/default/files/dc/sites/dhcd/publication/attachments/2023%20Affordable%20Housing%20RFP%2007282023_3.pdf', 'page': 56, 'source': 'https://dhcd.dc.gov/sites/default/files/dc/sites/dhcd/publication/attachments/2023%20Affordable%20Housing%20RFP%2007282023_3.pdf', 'total_pages': 92}, 'page_content': 'Housing.\\nAffordability: Projects applying for HOPWA capital funding must demonstrate that the\\nmonthly rent charged for the HOPWA unit will be affordable to the extremely low income\\nresident. Applicants should assume the HOPWA residents will not have a tenant based\\noperating subsidy. If other sources of subsidy are not sufficient to cover the operating\\nexpenses of the unit, applicants should plan to request project-based operating subsidy\\nassistance through this RFP.\\nRestricted Use Period: HOPWA-funded housing units must remain affordable over the long\\nterm. The required Federal minimum affordability period is enforced through a restrictive\\ncovenant deed on the property. The Federal minimum affordability period is based on the\\ntype of project and the total amount of HOPWA assistance (574.3 – Definitions).\\nDepartment of Behavioral Health Grant Funds (DBH)\\n2023 DHCD Consolidated Request for Proposals 57'}, vector=None, shard_key=None)]\n",
            "\u001b[00m\n",
            "\u001b[32;1m\u001b[1;3mFinal Answer: \n",
            "\n",
            "Based on the information gathered from the PolicyExtractionTool, the financing options available for the affordable housing project in Washington, DC include:\n",
            "\n",
            "1. Low Income Housing Tax Credits (LIHTC): The 4% LIHTC is competitive due to the increased efficiency requirements for projects with at least 10,000 square feet of gross floor area. Projects must comply with net zero energy requirements.\n",
            "\n",
            "2. Private Activity Bond Volume Cap (Bond Cap): Issued by the District of Columbia Housing Finance Agency (DCHFA), the Bond Cap is associated with LIHTCs and is competitive. Projects must meet efficiency requirements and at least 15% of the total cost must be financed by the District.\n",
            "\n",
            "3. Operating Subsidies through the Local Rent Supplement Program (LRSP): Administered by the DC Housing Authority (DCHA), operating subsidies are now determined by unit characteristics rather than submarket rent limits.\n",
            "\n",
            "4. DC Green Bank: Provides reduced-interest construction and permanent loans for clean energy, energy, and resource efficiency, and resilience improvements.\n",
            "\n",
            "5. HUD’s Green and Resilient Retrofit Program (GRRP): Provides funding for energy efficiency and resilience measures in affordable housing projects.\n",
            "\n",
            "6. Affordable Housing Retrofit Accelerator: Provides technical assistance for buildings subject to DC Building Energy Performance Standards.\n",
            "\n",
            "Each financing option brings unique benefits and value to the project, such as access to capital, reduced-interest loans, funding for energy efficiency and resilience measures, and technical assistance for compliance with energy performance standards. Compliance requirements vary for each option and may include net zero energy compliance, installation of solar panels, building electrification, and completion of assessments and certifications. Timelines for accessing these financing options may vary based on project specifics and funding availability.\n",
            "\n",
            "Overall, a combination of these financing options can provide the necessary capital and support for the affordable housing project in Washington, DC to meet its financial goals and compliance requirements.\u001b[0m\n",
            "\n",
            "\u001b[1m> Finished chain.\u001b[0m\n",
            "\n",
            "\n",
            "\u001b[1m> Entering new CrewAgentExecutor chain...\u001b[0m\n",
            "\u001b[32;1m\u001b[1;3mI now can give a great answer\n",
            "\n",
            "Final Answer:\n",
            "**Affordable Housing Project Financing Options for Marbury Plaza**\n",
            "\n",
            "**Key Findings:**\n",
            "After conducting a thorough analysis of the available financing options for the affordable housing project in Washington, DC, the following key findings have been identified:\n",
            "\n",
            "1. Low Income Housing Tax Credits (LIHTC) are competitive and require compliance with net zero energy requirements for projects with at least 10,000 square feet of gross floor area.\n",
            "\n",
            "2. Private Activity Bond Volume Cap (Bond Cap) issued by the District of Columbia Housing Finance Agency (DCHFA) is associated with LIHTCs and requires projects to meet efficiency requirements.\n",
            "\n",
            "3. Operating Subsidies through the Local Rent Supplement Program (LRSP) are determined by unit characteristics under the administration of the DC Housing Authority (DCHA).\n",
            "\n",
            "4. DC Green Bank offers reduced-interest construction and permanent loans for clean energy, energy, and resource efficiency, and resilience improvements.\n",
            "\n",
            "5. HUD’s Green and Resilient Retrofit Program (GRRP) provides funding for energy efficiency and resilience measures in affordable housing projects.\n",
            "\n",
            "6. Affordable Housing Retrofit Accelerator delivers technical assistance for buildings subject to DC Building Energy Performance Standards.\n",
            "\n",
            "**Recommendations:**\n",
            "Based on the findings, the following recommendations are proposed for the financing of Marbury Plaza:\n",
            "\n",
            "1. Utilize a combination of LIHTCs, Bond Cap, and Operating Subsidies to secure funding for the project while ensuring compliance with energy efficiency requirements.\n",
            "\n",
            "2. Consider leveraging the resources of DC Green Bank for reduced-interest loans to support clean energy and resilience improvements.\n",
            "\n",
            "3. Explore the opportunities provided by HUD’s GRRP to access funding for energy efficiency and resilience measures in the project.\n",
            "\n",
            "4. Engage with the Affordable Housing Retrofit Accelerator to receive technical assistance for meeting DC Building Energy Performance Standards.\n",
            "\n",
            "**Next Steps:**\n",
            "To proceed with the financing of Marbury Plaza, the following next steps are recommended:\n",
            "\n",
            "1. Develop a comprehensive financing plan that includes a mix of the identified options to meet the project's financial goals and compliance requirements.\n",
            "\n",
            "2. Initiate discussions with the relevant agencies and organizations to secure the necessary funding and technical assistance for the project.\n",
            "\n",
            "3. Ensure timely completion of all assessments, certifications, and compliance requirements to access the identified financing options.\n",
            "\n",
            "**Application Processes:**\n",
            "The application processes for each financing option have been outlined, highlighting the risks and timelines associated with each:\n",
            "\n",
            "1. DC Green Bank: Provides reduced-interest loans for clean energy and resilience improvements, with risks related to funding availability and project specifics.\n",
            "\n",
            "2. HUD’s GRRP: Offers funding for energy efficiency and resilience measures, with risks related to award schedules and resource availability.\n",
            "\n",
            "3. Affordable Housing Retrofit Accelerator: Delivers technical assistance for compliance with DC Building Energy Performance Standards, with risks related to program requirements and timelines.\n",
            "\n",
            "By carefully considering the key findings, recommendations, next steps, and risk assessment of the application processes for each financing option, the successful implementation of the affordable housing project at Marbury Plaza can be ensured. The combination of these financing options will provide the necessary capital and support to meet the project's financial goals and compliance requirements effectively.\u001b[0m\n",
            "\n",
            "\u001b[1m> Finished chain.\u001b[0m\n"
          ]
        }
      ]
    },
    {
      "cell_type": "code",
      "execution_count": 238,
      "metadata": {
        "height": 47,
        "id": "hut0slCKV29l",
        "outputId": "655d46db-1b66-4691-c209-bded5eca90e3",
        "colab": {
          "base_uri": "https://localhost:8080/",
          "height": 965
        }
      },
      "outputs": [
        {
          "output_type": "execute_result",
          "data": {
            "text/plain": [
              "<IPython.core.display.Markdown object>"
            ],
            "text/markdown": "**Affordable Housing Project Financing Options for Marbury Plaza**\n\n**Key Findings:**\nAfter conducting a thorough analysis of the available financing options for the affordable housing project in Washington, DC, the following key findings have been identified:\n\n1. Low Income Housing Tax Credits (LIHTC) are competitive and require compliance with net zero energy requirements for projects with at least 10,000 square feet of gross floor area.\n\n2. Private Activity Bond Volume Cap (Bond Cap) issued by the District of Columbia Housing Finance Agency (DCHFA) is associated with LIHTCs and requires projects to meet efficiency requirements.\n\n3. Operating Subsidies through the Local Rent Supplement Program (LRSP) are determined by unit characteristics under the administration of the DC Housing Authority (DCHA).\n\n4. DC Green Bank offers reduced-interest construction and permanent loans for clean energy, energy, and resource efficiency, and resilience improvements.\n\n5. HUD’s Green and Resilient Retrofit Program (GRRP) provides funding for energy efficiency and resilience measures in affordable housing projects.\n\n6. Affordable Housing Retrofit Accelerator delivers technical assistance for buildings subject to DC Building Energy Performance Standards.\n\n**Recommendations:**\nBased on the findings, the following recommendations are proposed for the financing of Marbury Plaza:\n\n1. Utilize a combination of LIHTCs, Bond Cap, and Operating Subsidies to secure funding for the project while ensuring compliance with energy efficiency requirements.\n\n2. Consider leveraging the resources of DC Green Bank for reduced-interest loans to support clean energy and resilience improvements.\n\n3. Explore the opportunities provided by HUD’s GRRP to access funding for energy efficiency and resilience measures in the project.\n\n4. Engage with the Affordable Housing Retrofit Accelerator to receive technical assistance for meeting DC Building Energy Performance Standards.\n\n**Next Steps:**\nTo proceed with the financing of Marbury Plaza, the following next steps are recommended:\n\n1. Develop a comprehensive financing plan that includes a mix of the identified options to meet the project's financial goals and compliance requirements.\n\n2. Initiate discussions with the relevant agencies and organizations to secure the necessary funding and technical assistance for the project.\n\n3. Ensure timely completion of all assessments, certifications, and compliance requirements to access the identified financing options.\n\n**Application Processes:**\nThe application processes for each financing option have been outlined, highlighting the risks and timelines associated with each:\n\n1. DC Green Bank: Provides reduced-interest loans for clean energy and resilience improvements, with risks related to funding availability and project specifics.\n\n2. HUD’s GRRP: Offers funding for energy efficiency and resilience measures, with risks related to award schedules and resource availability.\n\n3. Affordable Housing Retrofit Accelerator: Delivers technical assistance for compliance with DC Building Energy Performance Standards, with risks related to program requirements and timelines.\n\nBy carefully considering the key findings, recommendations, next steps, and risk assessment of the application processes for each financing option, the successful implementation of the affordable housing project at Marbury Plaza can be ensured. The combination of these financing options will provide the necessary capital and support to meet the project's financial goals and compliance requirements effectively."
          },
          "metadata": {},
          "execution_count": 238
        }
      ],
      "source": [
        "from IPython.display import Markdown\n",
        "Markdown(result)"
      ]
    }
  ],
  "metadata": {
    "kernelspec": {
      "display_name": "Python 3",
      "name": "python3"
    },
    "language_info": {
      "codemirror_mode": {
        "name": "ipython",
        "version": 3
      },
      "file_extension": ".py",
      "mimetype": "text/x-python",
      "name": "python",
      "nbconvert_exporter": "python",
      "pygments_lexer": "ipython3",
      "version": "3.11.9"
    },
    "colab": {
      "provenance": [],
      "include_colab_link": true
    }
  },
  "nbformat": 4,
  "nbformat_minor": 0
}